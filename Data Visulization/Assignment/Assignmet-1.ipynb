{
 "cells": [
  {
   "cell_type": "markdown",
   "id": "60bb2f24",
   "metadata": {},
   "source": [
    "### importing the libraries"
   ]
  },
  {
   "cell_type": "code",
   "execution_count": 136,
   "id": "3874aa0d",
   "metadata": {},
   "outputs": [],
   "source": [
    "import pandas as pd\n",
    "import numpy as np\n",
    "import matplotlib.pyplot as plt\n",
    "import seaborn as sns\n",
    "\n",
    "import json\n",
    "\n",
    "import warnings\n",
    "warnings.filterwarnings('ignore') #Supress unnecessary warnings for readability and cleaner presentation"
   ]
  },
  {
   "cell_type": "markdown",
   "id": "934516e9",
   "metadata": {},
   "source": [
    "# Assignment-1"
   ]
  },
  {
   "cell_type": "code",
   "execution_count": 137,
   "id": "eeabf957",
   "metadata": {},
   "outputs": [
    {
     "data": {
      "text/html": [
       "<div>\n",
       "<style scoped>\n",
       "    .dataframe tbody tr th:only-of-type {\n",
       "        vertical-align: middle;\n",
       "    }\n",
       "\n",
       "    .dataframe tbody tr th {\n",
       "        vertical-align: top;\n",
       "    }\n",
       "\n",
       "    .dataframe thead th {\n",
       "        text-align: right;\n",
       "    }\n",
       "</style>\n",
       "<table border=\"1\" class=\"dataframe\">\n",
       "  <thead>\n",
       "    <tr style=\"text-align: right;\">\n",
       "      <th></th>\n",
       "      <th>Name</th>\n",
       "      <th>Status</th>\n",
       "      <th>Description</th>\n",
       "      <th>References</th>\n",
       "      <th>Phase</th>\n",
       "      <th>Votes</th>\n",
       "      <th>Comments</th>\n",
       "    </tr>\n",
       "  </thead>\n",
       "  <tbody>\n",
       "    <tr>\n",
       "      <th>0</th>\n",
       "      <td>CVE-1999-0001</td>\n",
       "      <td>Candidate</td>\n",
       "      <td>ip_input.c in BSD-derived TCP/IP implementatio...</td>\n",
       "      <td>BUGTRAQ:19981223 Re: CERT Advisory CA-98.13 - ...</td>\n",
       "      <td>Modified (20051217)</td>\n",
       "      <td>MODIFY(1) Frech  |     NOOP(2) Northcutt, W...</td>\n",
       "      <td>Christey&gt; A Bugtraq posting indicates that the...</td>\n",
       "    </tr>\n",
       "    <tr>\n",
       "      <th>1</th>\n",
       "      <td>CVE-1999-0002</td>\n",
       "      <td>Entry</td>\n",
       "      <td>Buffer overflow in NFS mountd gives root acces...</td>\n",
       "      <td>BID:121   |   URL:http://www.securityfocus.com...</td>\n",
       "      <td>NaN</td>\n",
       "      <td>NaN</td>\n",
       "      <td>NaN</td>\n",
       "    </tr>\n",
       "    <tr>\n",
       "      <th>2</th>\n",
       "      <td>CVE-1999-0003</td>\n",
       "      <td>Entry</td>\n",
       "      <td>Execute commands as root via buffer overflow i...</td>\n",
       "      <td>BID:122   |   URL:http://www.securityfocus.com...</td>\n",
       "      <td>NaN</td>\n",
       "      <td>NaN</td>\n",
       "      <td>NaN</td>\n",
       "    </tr>\n",
       "    <tr>\n",
       "      <th>3</th>\n",
       "      <td>CVE-1999-0004</td>\n",
       "      <td>Candidate</td>\n",
       "      <td>MIME buffer overflow in email clients, e.g. So...</td>\n",
       "      <td>CERT:CA-98.10.mime_buffer_overflows   |   MS:M...</td>\n",
       "      <td>Modified (19990621)</td>\n",
       "      <td>ACCEPT(8) Baker, Cole, Collins, Dik, Landfi...</td>\n",
       "      <td>Frech&gt; Extremely minor, but I believe e-mail i...</td>\n",
       "    </tr>\n",
       "    <tr>\n",
       "      <th>4</th>\n",
       "      <td>CVE-1999-0005</td>\n",
       "      <td>Entry</td>\n",
       "      <td>Arbitrary command execution via IMAP buffer ov...</td>\n",
       "      <td>BID:130   |   URL:http://www.securityfocus.com...</td>\n",
       "      <td>NaN</td>\n",
       "      <td>NaN</td>\n",
       "      <td>NaN</td>\n",
       "    </tr>\n",
       "    <tr>\n",
       "      <th>...</th>\n",
       "      <td>...</td>\n",
       "      <td>...</td>\n",
       "      <td>...</td>\n",
       "      <td>...</td>\n",
       "      <td>...</td>\n",
       "      <td>...</td>\n",
       "      <td>...</td>\n",
       "    </tr>\n",
       "    <tr>\n",
       "      <th>211686</th>\n",
       "      <td>CVE-2021-3632</td>\n",
       "      <td>Candidate</td>\n",
       "      <td>** RESERVED ** This candidate has been reserve...</td>\n",
       "      <td>NaN</td>\n",
       "      <td>Assigned (20210701)</td>\n",
       "      <td>None (candidate not yet proposed)</td>\n",
       "      <td>NaN</td>\n",
       "    </tr>\n",
       "    <tr>\n",
       "      <th>211687</th>\n",
       "      <td>CVE-2021-3633</td>\n",
       "      <td>Candidate</td>\n",
       "      <td>** RESERVED ** This candidate has been reserve...</td>\n",
       "      <td>NaN</td>\n",
       "      <td>Assigned (20210701)</td>\n",
       "      <td>None (candidate not yet proposed)</td>\n",
       "      <td>NaN</td>\n",
       "    </tr>\n",
       "    <tr>\n",
       "      <th>211688</th>\n",
       "      <td>CVE-2021-3634</td>\n",
       "      <td>Candidate</td>\n",
       "      <td>** RESERVED ** This candidate has been reserve...</td>\n",
       "      <td>NaN</td>\n",
       "      <td>Assigned (20210702)</td>\n",
       "      <td>None (candidate not yet proposed)</td>\n",
       "      <td>NaN</td>\n",
       "    </tr>\n",
       "    <tr>\n",
       "      <th>211689</th>\n",
       "      <td>CVE-2021-3635</td>\n",
       "      <td>Candidate</td>\n",
       "      <td>** RESERVED ** This candidate has been reserve...</td>\n",
       "      <td>NaN</td>\n",
       "      <td>Assigned (20210702)</td>\n",
       "      <td>None (candidate not yet proposed)</td>\n",
       "      <td>NaN</td>\n",
       "    </tr>\n",
       "    <tr>\n",
       "      <th>211690</th>\n",
       "      <td>CVE-2021-3636</td>\n",
       "      <td>Candidate</td>\n",
       "      <td>** RESERVED ** This candidate has been reserve...</td>\n",
       "      <td>NaN</td>\n",
       "      <td>Assigned (20210702)</td>\n",
       "      <td>None (candidate not yet proposed)</td>\n",
       "      <td>NaN</td>\n",
       "    </tr>\n",
       "  </tbody>\n",
       "</table>\n",
       "<p>211691 rows × 7 columns</p>\n",
       "</div>"
      ],
      "text/plain": [
       "                 Name     Status  \\\n",
       "0       CVE-1999-0001  Candidate   \n",
       "1       CVE-1999-0002      Entry   \n",
       "2       CVE-1999-0003      Entry   \n",
       "3       CVE-1999-0004  Candidate   \n",
       "4       CVE-1999-0005      Entry   \n",
       "...               ...        ...   \n",
       "211686  CVE-2021-3632  Candidate   \n",
       "211687  CVE-2021-3633  Candidate   \n",
       "211688  CVE-2021-3634  Candidate   \n",
       "211689  CVE-2021-3635  Candidate   \n",
       "211690  CVE-2021-3636  Candidate   \n",
       "\n",
       "                                              Description  \\\n",
       "0       ip_input.c in BSD-derived TCP/IP implementatio...   \n",
       "1       Buffer overflow in NFS mountd gives root acces...   \n",
       "2       Execute commands as root via buffer overflow i...   \n",
       "3       MIME buffer overflow in email clients, e.g. So...   \n",
       "4       Arbitrary command execution via IMAP buffer ov...   \n",
       "...                                                   ...   \n",
       "211686  ** RESERVED ** This candidate has been reserve...   \n",
       "211687  ** RESERVED ** This candidate has been reserve...   \n",
       "211688  ** RESERVED ** This candidate has been reserve...   \n",
       "211689  ** RESERVED ** This candidate has been reserve...   \n",
       "211690  ** RESERVED ** This candidate has been reserve...   \n",
       "\n",
       "                                               References  \\\n",
       "0       BUGTRAQ:19981223 Re: CERT Advisory CA-98.13 - ...   \n",
       "1       BID:121   |   URL:http://www.securityfocus.com...   \n",
       "2       BID:122   |   URL:http://www.securityfocus.com...   \n",
       "3       CERT:CA-98.10.mime_buffer_overflows   |   MS:M...   \n",
       "4       BID:130   |   URL:http://www.securityfocus.com...   \n",
       "...                                                   ...   \n",
       "211686                                                NaN   \n",
       "211687                                                NaN   \n",
       "211688                                                NaN   \n",
       "211689                                                NaN   \n",
       "211690                                                NaN   \n",
       "\n",
       "                      Phase  \\\n",
       "0       Modified (20051217)   \n",
       "1                       NaN   \n",
       "2                       NaN   \n",
       "3       Modified (19990621)   \n",
       "4                       NaN   \n",
       "...                     ...   \n",
       "211686  Assigned (20210701)   \n",
       "211687  Assigned (20210701)   \n",
       "211688  Assigned (20210702)   \n",
       "211689  Assigned (20210702)   \n",
       "211690  Assigned (20210702)   \n",
       "\n",
       "                                                    Votes  \\\n",
       "0          MODIFY(1) Frech  |     NOOP(2) Northcutt, W...   \n",
       "1                                                     NaN   \n",
       "2                                                     NaN   \n",
       "3          ACCEPT(8) Baker, Cole, Collins, Dik, Landfi...   \n",
       "4                                                     NaN   \n",
       "...                                                   ...   \n",
       "211686                  None (candidate not yet proposed)   \n",
       "211687                  None (candidate not yet proposed)   \n",
       "211688                  None (candidate not yet proposed)   \n",
       "211689                  None (candidate not yet proposed)   \n",
       "211690                  None (candidate not yet proposed)   \n",
       "\n",
       "                                                 Comments  \n",
       "0       Christey> A Bugtraq posting indicates that the...  \n",
       "1                                                     NaN  \n",
       "2                                                     NaN  \n",
       "3       Frech> Extremely minor, but I believe e-mail i...  \n",
       "4                                                     NaN  \n",
       "...                                                   ...  \n",
       "211686                                                NaN  \n",
       "211687                                                NaN  \n",
       "211688                                                NaN  \n",
       "211689                                                NaN  \n",
       "211690                                                NaN  \n",
       "\n",
       "[211691 rows x 7 columns]"
      ]
     },
     "execution_count": 137,
     "metadata": {},
     "output_type": "execute_result"
    }
   ],
   "source": [
    "df = pd.read_csv('allitems (1).csv',  encoding='latin-1')\n",
    "\n",
    "df"
   ]
  },
  {
   "cell_type": "code",
   "execution_count": 138,
   "id": "eba19c09",
   "metadata": {},
   "outputs": [
    {
     "data": {
      "text/plain": [
       "Name                0\n",
       "Status              0\n",
       "Description         0\n",
       "References      55394\n",
       "Phase            3054\n",
       "Votes            3054\n",
       "Comments       209836\n",
       "dtype: int64"
      ]
     },
     "execution_count": 138,
     "metadata": {},
     "output_type": "execute_result"
    }
   ],
   "source": [
    "df.isnull().sum()"
   ]
  },
  {
   "cell_type": "code",
   "execution_count": 139,
   "id": "72aa8a83",
   "metadata": {},
   "outputs": [],
   "source": [
    "final_df = df[['Name', 'Description']]"
   ]
  },
  {
   "cell_type": "code",
   "execution_count": 140,
   "id": "0ed3def9",
   "metadata": {},
   "outputs": [],
   "source": [
    "final_df['Name'] = final_df['Name'].apply(lambda x:x.split('-')[1]).astype(int)"
   ]
  },
  {
   "cell_type": "code",
   "execution_count": 141,
   "id": "7010f6b4",
   "metadata": {},
   "outputs": [],
   "source": [
    "# total \n",
    "total_attack  = final_df['Description'].shape[0]"
   ]
  },
  {
   "cell_type": "code",
   "execution_count": 142,
   "id": "0dcfbff1",
   "metadata": {},
   "outputs": [],
   "source": [
    "# SQL injection dataframe with year and description\n",
    "sql_inj_df = final_df[final_df['Description'].str.contains('SQL injection') == True].reset_index()"
   ]
  },
  {
   "cell_type": "code",
   "execution_count": 143,
   "id": "7a6fa842",
   "metadata": {},
   "outputs": [
    {
     "data": {
      "text/html": [
       "<div>\n",
       "<style scoped>\n",
       "    .dataframe tbody tr th:only-of-type {\n",
       "        vertical-align: middle;\n",
       "    }\n",
       "\n",
       "    .dataframe tbody tr th {\n",
       "        vertical-align: top;\n",
       "    }\n",
       "\n",
       "    .dataframe thead th {\n",
       "        text-align: right;\n",
       "    }\n",
       "</style>\n",
       "<table border=\"1\" class=\"dataframe\">\n",
       "  <thead>\n",
       "    <tr style=\"text-align: right;\">\n",
       "      <th></th>\n",
       "      <th>index</th>\n",
       "      <th>Name</th>\n",
       "      <th>Description</th>\n",
       "    </tr>\n",
       "  </thead>\n",
       "  <tbody>\n",
       "    <tr>\n",
       "      <th>0</th>\n",
       "      <td>2800</td>\n",
       "      <td>2000</td>\n",
       "      <td>SQL injection vulnerability in read.php3 and o...</td>\n",
       "    </tr>\n",
       "    <tr>\n",
       "      <th>1</th>\n",
       "      <td>2803</td>\n",
       "      <td>2000</td>\n",
       "      <td>SQL injection vulnerability in mod_sql in Orac...</td>\n",
       "    </tr>\n",
       "    <tr>\n",
       "      <th>2</th>\n",
       "      <td>4152</td>\n",
       "      <td>2001</td>\n",
       "      <td>TWIG 2.6.2 and earlier allows remote attackers...</td>\n",
       "    </tr>\n",
       "    <tr>\n",
       "      <th>3</th>\n",
       "      <td>4183</td>\n",
       "      <td>2001</td>\n",
       "      <td>The PostgreSQL authentication modules (1) mod_...</td>\n",
       "    </tr>\n",
       "    <tr>\n",
       "      <th>4</th>\n",
       "      <td>4205</td>\n",
       "      <td>2001</td>\n",
       "      <td>Bugzilla before 2.14 does not properly escape ...</td>\n",
       "    </tr>\n",
       "    <tr>\n",
       "      <th>...</th>\n",
       "      <td>...</td>\n",
       "      <td>...</td>\n",
       "      <td>...</td>\n",
       "    </tr>\n",
       "    <tr>\n",
       "      <th>7675</th>\n",
       "      <td>208135</td>\n",
       "      <td>2021</td>\n",
       "      <td>The affected product is vulnerable to a SQL in...</td>\n",
       "    </tr>\n",
       "    <tr>\n",
       "      <th>7676</th>\n",
       "      <td>209188</td>\n",
       "      <td>2021</td>\n",
       "      <td>In Progress MOVEit Transfer before 2019.0.6 (1...</td>\n",
       "    </tr>\n",
       "    <tr>\n",
       "      <th>7677</th>\n",
       "      <td>210451</td>\n",
       "      <td>2021</td>\n",
       "      <td>Django 3.1.x before 3.1.13 and 3.2.x before 3....</td>\n",
       "    </tr>\n",
       "    <tr>\n",
       "      <th>7678</th>\n",
       "      <td>210457</td>\n",
       "      <td>2021</td>\n",
       "      <td>Vulnerability in Fidelis Network and Deception...</td>\n",
       "    </tr>\n",
       "    <tr>\n",
       "      <th>7679</th>\n",
       "      <td>210905</td>\n",
       "      <td>2021</td>\n",
       "      <td>Online Pet Shop We App 1.0 is vulnerable to re...</td>\n",
       "    </tr>\n",
       "  </tbody>\n",
       "</table>\n",
       "<p>7680 rows × 3 columns</p>\n",
       "</div>"
      ],
      "text/plain": [
       "       index  Name                                        Description\n",
       "0       2800  2000  SQL injection vulnerability in read.php3 and o...\n",
       "1       2803  2000  SQL injection vulnerability in mod_sql in Orac...\n",
       "2       4152  2001  TWIG 2.6.2 and earlier allows remote attackers...\n",
       "3       4183  2001  The PostgreSQL authentication modules (1) mod_...\n",
       "4       4205  2001  Bugzilla before 2.14 does not properly escape ...\n",
       "...      ...   ...                                                ...\n",
       "7675  208135  2021  The affected product is vulnerable to a SQL in...\n",
       "7676  209188  2021  In Progress MOVEit Transfer before 2019.0.6 (1...\n",
       "7677  210451  2021  Django 3.1.x before 3.1.13 and 3.2.x before 3....\n",
       "7678  210457  2021  Vulnerability in Fidelis Network and Deception...\n",
       "7679  210905  2021  Online Pet Shop We App 1.0 is vulnerable to re...\n",
       "\n",
       "[7680 rows x 3 columns]"
      ]
     },
     "execution_count": 143,
     "metadata": {},
     "output_type": "execute_result"
    }
   ],
   "source": [
    "sql_inj_df"
   ]
  },
  {
   "cell_type": "code",
   "execution_count": 144,
   "id": "cb5290aa",
   "metadata": {},
   "outputs": [
    {
     "data": {
      "text/html": [
       "<div>\n",
       "<style scoped>\n",
       "    .dataframe tbody tr th:only-of-type {\n",
       "        vertical-align: middle;\n",
       "    }\n",
       "\n",
       "    .dataframe tbody tr th {\n",
       "        vertical-align: top;\n",
       "    }\n",
       "\n",
       "    .dataframe thead th {\n",
       "        text-align: right;\n",
       "    }\n",
       "</style>\n",
       "<table border=\"1\" class=\"dataframe\">\n",
       "  <thead>\n",
       "    <tr style=\"text-align: right;\">\n",
       "      <th></th>\n",
       "      <th>Name</th>\n",
       "      <th>Description</th>\n",
       "    </tr>\n",
       "  </thead>\n",
       "  <tbody>\n",
       "    <tr>\n",
       "      <th>0</th>\n",
       "      <td>1999</td>\n",
       "      <td>ip_input.c in BSD-derived TCP/IP implementatio...</td>\n",
       "    </tr>\n",
       "    <tr>\n",
       "      <th>1</th>\n",
       "      <td>1999</td>\n",
       "      <td>Buffer overflow in NFS mountd gives root acces...</td>\n",
       "    </tr>\n",
       "    <tr>\n",
       "      <th>2</th>\n",
       "      <td>1999</td>\n",
       "      <td>Execute commands as root via buffer overflow i...</td>\n",
       "    </tr>\n",
       "    <tr>\n",
       "      <th>3</th>\n",
       "      <td>1999</td>\n",
       "      <td>MIME buffer overflow in email clients, e.g. So...</td>\n",
       "    </tr>\n",
       "    <tr>\n",
       "      <th>4</th>\n",
       "      <td>1999</td>\n",
       "      <td>Arbitrary command execution via IMAP buffer ov...</td>\n",
       "    </tr>\n",
       "    <tr>\n",
       "      <th>...</th>\n",
       "      <td>...</td>\n",
       "      <td>...</td>\n",
       "    </tr>\n",
       "    <tr>\n",
       "      <th>211686</th>\n",
       "      <td>2021</td>\n",
       "      <td>** RESERVED ** This candidate has been reserve...</td>\n",
       "    </tr>\n",
       "    <tr>\n",
       "      <th>211687</th>\n",
       "      <td>2021</td>\n",
       "      <td>** RESERVED ** This candidate has been reserve...</td>\n",
       "    </tr>\n",
       "    <tr>\n",
       "      <th>211688</th>\n",
       "      <td>2021</td>\n",
       "      <td>** RESERVED ** This candidate has been reserve...</td>\n",
       "    </tr>\n",
       "    <tr>\n",
       "      <th>211689</th>\n",
       "      <td>2021</td>\n",
       "      <td>** RESERVED ** This candidate has been reserve...</td>\n",
       "    </tr>\n",
       "    <tr>\n",
       "      <th>211690</th>\n",
       "      <td>2021</td>\n",
       "      <td>** RESERVED ** This candidate has been reserve...</td>\n",
       "    </tr>\n",
       "  </tbody>\n",
       "</table>\n",
       "<p>211691 rows × 2 columns</p>\n",
       "</div>"
      ],
      "text/plain": [
       "        Name                                        Description\n",
       "0       1999  ip_input.c in BSD-derived TCP/IP implementatio...\n",
       "1       1999  Buffer overflow in NFS mountd gives root acces...\n",
       "2       1999  Execute commands as root via buffer overflow i...\n",
       "3       1999  MIME buffer overflow in email clients, e.g. So...\n",
       "4       1999  Arbitrary command execution via IMAP buffer ov...\n",
       "...      ...                                                ...\n",
       "211686  2021  ** RESERVED ** This candidate has been reserve...\n",
       "211687  2021  ** RESERVED ** This candidate has been reserve...\n",
       "211688  2021  ** RESERVED ** This candidate has been reserve...\n",
       "211689  2021  ** RESERVED ** This candidate has been reserve...\n",
       "211690  2021  ** RESERVED ** This candidate has been reserve...\n",
       "\n",
       "[211691 rows x 2 columns]"
      ]
     },
     "execution_count": 144,
     "metadata": {},
     "output_type": "execute_result"
    }
   ],
   "source": [
    "final_df"
   ]
  },
  {
   "cell_type": "code",
   "execution_count": 148,
   "id": "24f3ae98",
   "metadata": {},
   "outputs": [
    {
     "data": {
      "image/png": "[encoded data removed]",
      "text/plain": [
       "<Figure size 1440x1080 with 1 Axes>"
      ]
     },
     "metadata": {},
     "output_type": "display_data"
    }
   ],
   "source": [
    "# Data frame from all type of attack baesed on year\n",
    "\n",
    "plt.figure(figsize = (20,15))\n",
    "sns.set_style('darkgrid')\n",
    "\n",
    "\n",
    "# final df\n",
    "v = final_df['Name'].value_counts()\n",
    "sns.barplot(x = v.index, y = v, color = 'green',  label = 'All Type of Attack')  # all type of attack\n",
    "\n",
    "\n",
    "# SQL injection df\n",
    "v1 = sql_inj_df['Name'].value_counts()\n",
    "sns.barplot(x = v1.index, y = v1, color = 'red', label  = 'SQL Injection Attack') # only SQl injection attack\n",
    "\n",
    "\n",
    "plt.title('All type of cyber attack vs SQL injection attack', fontsize = 20)\n",
    "plt.xlabel('Year', fontsize = 15)\n",
    "plt.ylabel('Frequency', fontsize = 15)\n",
    "plt.legend(loc='upper left', fontsize = 15)\n",
    "plt.show()"
   ]
  },
  {
   "cell_type": "markdown",
   "id": "e4d32817",
   "metadata": {},
   "source": [
    "__Insights:__\n",
    "- From the analysis , red color shows the sql injection attacked based on the year.\n",
    "- From the analysis, green color shows the all type of attack based on  the year"
   ]
  },
  {
   "cell_type": "markdown",
   "id": "0e464e6b",
   "metadata": {},
   "source": [
    "# Assignement-2"
   ]
  },
  {
   "cell_type": "code",
   "execution_count": 149,
   "id": "15327456",
   "metadata": {},
   "outputs": [],
   "source": [
    "total_sql_attack  =  sql_inj_df.shape[0]"
   ]
  },
  {
   "cell_type": "code",
   "execution_count": 150,
   "id": "b90d627e",
   "metadata": {},
   "outputs": [],
   "source": [
    "v1 = sql_inj_df['Name'].value_counts()"
   ]
  },
  {
   "cell_type": "code",
   "execution_count": 151,
   "id": "23cffe38",
   "metadata": {},
   "outputs": [],
   "source": [
    "percentage = round((v1/total_sql_attack*100), 2)"
   ]
  },
  {
   "cell_type": "code",
   "execution_count": 152,
   "id": "1a0e41d2",
   "metadata": {},
   "outputs": [
    {
     "data": {
      "image/png": "[encoded data removed]",
      "text/plain": [
       "<Figure size 1584x1080 with 1 Axes>"
      ]
     },
     "metadata": {},
     "output_type": "display_data"
    }
   ],
   "source": [
    "plt.figure(figsize = (22,15))\n",
    "sns.set_style('darkgrid')\n",
    "\n",
    "ax  =  sns.barplot(x = percentage.index, y = percentage, label  = 'SQL Injection Attack', palette = 'coolwarm') # only SQl injection attack\n",
    "\n",
    "\n",
    "for i in ax.patches:\n",
    "    width, height = i.get_width(), i.get_height()\n",
    "    x, y = i.get_xy() \n",
    "    ax.annotate(f'{height}%', (x + width/2, y + height*1.01), ha='center', fontsize = 'x-large')\n",
    "    \n",
    "\n",
    "plt.title('SQL Injection attack on year', fontsize = 20)\n",
    "plt.xlabel('Year', fontsize = 15)\n",
    "plt.ylabel('Percentage', fontsize = 15)\n",
    "plt.legend(loc='upper right', fontsize = 15)\n",
    "plt.show() \n"
   ]
  },
  {
   "cell_type": "markdown",
   "id": "4333f3cb",
   "metadata": {},
   "source": [
    "__Insights:__\n",
    "- From the analysis , we can see that highest sql injection attack happend in __2005__ to __2010__ and lowest sql injection attack happend in __2000__ to __2004__ .\n",
    "\n",
    "- From the analysis, most of the sql injection  attack happend in __2008__ which was __19.39%__ . \n",
    "- From the analysis, least sql injection  attack  happend in __2000__ which was __0.03%__ ."
   ]
  },
  {
   "cell_type": "markdown",
   "id": "1fdd721a",
   "metadata": {},
   "source": [
    "# Assignment - 3"
   ]
  },
  {
   "cell_type": "code",
   "execution_count": 4,
   "id": "ddace5d3",
   "metadata": {},
   "outputs": [],
   "source": [
    "with open(\"nvdcve-1.1-2020.json\", encoding='utf-8', errors='ignore') as json_data:\n",
    "     data = json.load(json_data, strict=False)"
   ]
  },
  {
   "cell_type": "code",
   "execution_count": 14,
   "id": "410203f1",
   "metadata": {},
   "outputs": [
    {
     "data": {
      "text/plain": [
       "17566"
      ]
     },
     "execution_count": 14,
     "metadata": {},
     "output_type": "execute_result"
    }
   ],
   "source": [
    "# totle \n",
    "len(data['CVE_Items'])"
   ]
  },
  {
   "cell_type": "markdown",
   "id": "cf8f2c9a",
   "metadata": {},
   "source": [
    "### saving the data into list"
   ]
  },
  {
   "cell_type": "code",
   "execution_count": 113,
   "id": "9312ebfa",
   "metadata": {},
   "outputs": [],
   "source": [
    "base_score_list = []\n",
    "description_list = []"
   ]
  },
  {
   "cell_type": "code",
   "execution_count": 114,
   "id": "1041db23",
   "metadata": {},
   "outputs": [],
   "source": [
    "for i in  data['CVE_Items']:\n",
    "    \n",
    "    des = i['cve']['description']['description_data'][0]['value'] # description\n",
    "    description_list.append(des)\n",
    "\n",
    "    # base score (cvss)\n",
    "    try:\n",
    "        base = i['impact']['baseMetricV3']['cvssV3']['baseScore']\n",
    "        base_score_list.append(base)\n",
    "    except:\n",
    "        base = 0\n",
    "        base_score_list.append(base)"
   ]
  },
  {
   "cell_type": "markdown",
   "id": "37d9d588",
   "metadata": {},
   "source": [
    "### Creating the dataframe"
   ]
  },
  {
   "cell_type": "code",
   "execution_count": 115,
   "id": "554385c8",
   "metadata": {},
   "outputs": [],
   "source": [
    "df1 = pd.DataFrame({\n",
    "    'cvss_score' : base_score_list,\n",
    "    'description' : description_list\n",
    "})"
   ]
  },
  {
   "cell_type": "code",
   "execution_count": 116,
   "id": "82ef4a1d",
   "metadata": {},
   "outputs": [
    {
     "data": {
      "text/html": [
       "<div>\n",
       "<style scoped>\n",
       "    .dataframe tbody tr th:only-of-type {\n",
       "        vertical-align: middle;\n",
       "    }\n",
       "\n",
       "    .dataframe tbody tr th {\n",
       "        vertical-align: top;\n",
       "    }\n",
       "\n",
       "    .dataframe thead th {\n",
       "        text-align: right;\n",
       "    }\n",
       "</style>\n",
       "<table border=\"1\" class=\"dataframe\">\n",
       "  <thead>\n",
       "    <tr style=\"text-align: right;\">\n",
       "      <th></th>\n",
       "      <th>cvss_score</th>\n",
       "      <th>description</th>\n",
       "    </tr>\n",
       "  </thead>\n",
       "  <tbody>\n",
       "    <tr>\n",
       "      <th>0</th>\n",
       "      <td>7.8</td>\n",
       "      <td>In getProcessRecordLocked of ActivityManagerSe...</td>\n",
       "    </tr>\n",
       "    <tr>\n",
       "      <th>1</th>\n",
       "      <td>8.8</td>\n",
       "      <td>In ih264d_init_decoder of ih264d_api.c, there ...</td>\n",
       "    </tr>\n",
       "    <tr>\n",
       "      <th>2</th>\n",
       "      <td>6.7</td>\n",
       "      <td>In onCreate of InstallStart.java, there is a p...</td>\n",
       "    </tr>\n",
       "    <tr>\n",
       "      <th>3</th>\n",
       "      <td>5.5</td>\n",
       "      <td>In generateCrop of WallpaperManagerService.jav...</td>\n",
       "    </tr>\n",
       "    <tr>\n",
       "      <th>4</th>\n",
       "      <td>6.7</td>\n",
       "      <td>In btm_read_remote_ext_features_complete of bt...</td>\n",
       "    </tr>\n",
       "    <tr>\n",
       "      <th>...</th>\n",
       "      <td>...</td>\n",
       "      <td>...</td>\n",
       "    </tr>\n",
       "    <tr>\n",
       "      <th>17561</th>\n",
       "      <td>7.1</td>\n",
       "      <td>A path handling issue was addressed with impro...</td>\n",
       "    </tr>\n",
       "    <tr>\n",
       "      <th>17562</th>\n",
       "      <td>6.1</td>\n",
       "      <td>An issue existed in the parsing of URLs. This ...</td>\n",
       "    </tr>\n",
       "    <tr>\n",
       "      <th>17563</th>\n",
       "      <td>7.8</td>\n",
       "      <td>A use after free issue was addressed with impr...</td>\n",
       "    </tr>\n",
       "    <tr>\n",
       "      <th>17564</th>\n",
       "      <td>5.5</td>\n",
       "      <td>An information disclosure issue was addressed ...</td>\n",
       "    </tr>\n",
       "    <tr>\n",
       "      <th>17565</th>\n",
       "      <td>7.8</td>\n",
       "      <td>A memory corruption issue was addressed with i...</td>\n",
       "    </tr>\n",
       "  </tbody>\n",
       "</table>\n",
       "<p>17566 rows × 2 columns</p>\n",
       "</div>"
      ],
      "text/plain": [
       "       cvss_score                                        description\n",
       "0             7.8  In getProcessRecordLocked of ActivityManagerSe...\n",
       "1             8.8  In ih264d_init_decoder of ih264d_api.c, there ...\n",
       "2             6.7  In onCreate of InstallStart.java, there is a p...\n",
       "3             5.5  In generateCrop of WallpaperManagerService.jav...\n",
       "4             6.7  In btm_read_remote_ext_features_complete of bt...\n",
       "...           ...                                                ...\n",
       "17561         7.1  A path handling issue was addressed with impro...\n",
       "17562         6.1  An issue existed in the parsing of URLs. This ...\n",
       "17563         7.8  A use after free issue was addressed with impr...\n",
       "17564         5.5  An information disclosure issue was addressed ...\n",
       "17565         7.8  A memory corruption issue was addressed with i...\n",
       "\n",
       "[17566 rows x 2 columns]"
      ]
     },
     "execution_count": 116,
     "metadata": {},
     "output_type": "execute_result"
    }
   ],
   "source": [
    "df1"
   ]
  },
  {
   "cell_type": "markdown",
   "id": "83d85508",
   "metadata": {},
   "source": [
    "#### filtering sql_inj_df1"
   ]
  },
  {
   "cell_type": "code",
   "execution_count": 117,
   "id": "c4457161",
   "metadata": {},
   "outputs": [],
   "source": [
    "\n",
    "sql_inj_df1  = df1[df1['description'].str.contains('SQL injection') == True].reset_index(drop = True)"
   ]
  },
  {
   "cell_type": "code",
   "execution_count": 118,
   "id": "5954dfe4",
   "metadata": {},
   "outputs": [
    {
     "data": {
      "text/html": [
       "<div>\n",
       "<style scoped>\n",
       "    .dataframe tbody tr th:only-of-type {\n",
       "        vertical-align: middle;\n",
       "    }\n",
       "\n",
       "    .dataframe tbody tr th {\n",
       "        vertical-align: top;\n",
       "    }\n",
       "\n",
       "    .dataframe thead th {\n",
       "        text-align: right;\n",
       "    }\n",
       "</style>\n",
       "<table border=\"1\" class=\"dataframe\">\n",
       "  <thead>\n",
       "    <tr style=\"text-align: right;\">\n",
       "      <th></th>\n",
       "      <th>cvss_score</th>\n",
       "      <th>description</th>\n",
       "    </tr>\n",
       "  </thead>\n",
       "  <tbody>\n",
       "    <tr>\n",
       "      <th>0</th>\n",
       "      <td>4.4</td>\n",
       "      <td>In query of SmsProvider.java and MmsSmsProvide...</td>\n",
       "    </tr>\n",
       "    <tr>\n",
       "      <th>1</th>\n",
       "      <td>5.5</td>\n",
       "      <td>In MediaProvider, there is a possible permissi...</td>\n",
       "    </tr>\n",
       "    <tr>\n",
       "      <th>2</th>\n",
       "      <td>5.5</td>\n",
       "      <td>In MediaProvider, there is a possible permissi...</td>\n",
       "    </tr>\n",
       "    <tr>\n",
       "      <th>3</th>\n",
       "      <td>9.8</td>\n",
       "      <td>PHPGurukul Daily Expense Tracker System 1.0 is...</td>\n",
       "    </tr>\n",
       "    <tr>\n",
       "      <th>4</th>\n",
       "      <td>7.5</td>\n",
       "      <td>The verify endpoint in YubiKey Validation Serv...</td>\n",
       "    </tr>\n",
       "    <tr>\n",
       "      <th>...</th>\n",
       "      <td>...</td>\n",
       "      <td>...</td>\n",
       "    </tr>\n",
       "    <tr>\n",
       "      <th>301</th>\n",
       "      <td>7.2</td>\n",
       "      <td>Red Gate SQL Monitor 9.0.13 through 9.2.14 all...</td>\n",
       "    </tr>\n",
       "    <tr>\n",
       "      <th>302</th>\n",
       "      <td>8.8</td>\n",
       "      <td>The Transaction Insight reporting component of...</td>\n",
       "    </tr>\n",
       "    <tr>\n",
       "      <th>303</th>\n",
       "      <td>9.8</td>\n",
       "      <td>An issue was discovered in EyesOfNetwork eonwe...</td>\n",
       "    </tr>\n",
       "    <tr>\n",
       "      <th>304</th>\n",
       "      <td>7.5</td>\n",
       "      <td>**Resolved** When use H2/MySQL/TiDB as Apache ...</td>\n",
       "    </tr>\n",
       "    <tr>\n",
       "      <th>305</th>\n",
       "      <td>8.8</td>\n",
       "      <td>An SQL injection vulnerability was discovered ...</td>\n",
       "    </tr>\n",
       "  </tbody>\n",
       "</table>\n",
       "<p>306 rows × 2 columns</p>\n",
       "</div>"
      ],
      "text/plain": [
       "     cvss_score                                        description\n",
       "0           4.4  In query of SmsProvider.java and MmsSmsProvide...\n",
       "1           5.5  In MediaProvider, there is a possible permissi...\n",
       "2           5.5  In MediaProvider, there is a possible permissi...\n",
       "3           9.8  PHPGurukul Daily Expense Tracker System 1.0 is...\n",
       "4           7.5  The verify endpoint in YubiKey Validation Serv...\n",
       "..          ...                                                ...\n",
       "301         7.2  Red Gate SQL Monitor 9.0.13 through 9.2.14 all...\n",
       "302         8.8  The Transaction Insight reporting component of...\n",
       "303         9.8  An issue was discovered in EyesOfNetwork eonwe...\n",
       "304         7.5  **Resolved** When use H2/MySQL/TiDB as Apache ...\n",
       "305         8.8  An SQL injection vulnerability was discovered ...\n",
       "\n",
       "[306 rows x 2 columns]"
      ]
     },
     "execution_count": 118,
     "metadata": {},
     "output_type": "execute_result"
    }
   ],
   "source": [
    "sql_inj_df1"
   ]
  },
  {
   "cell_type": "code",
   "execution_count": 124,
   "id": "c5300b38",
   "metadata": {},
   "outputs": [],
   "source": [
    "v3 = sql_inj_df1['cvss_score'].value_counts()"
   ]
  },
  {
   "cell_type": "code",
   "execution_count": 125,
   "id": "29e175f0",
   "metadata": {},
   "outputs": [
    {
     "data": {
      "text/plain": [
       "9.8    136\n",
       "8.8     78\n",
       "7.5     39\n",
       "7.2     17\n",
       "6.5      6\n",
       "4.3      4\n",
       "5.4      3\n",
       "8.1      3\n",
       "5.3      2\n",
       "8.0      2\n",
       "5.5      2\n",
       "6.3      2\n",
       "9.1      2\n",
       "8.2      2\n",
       "6.8      1\n",
       "4.9      1\n",
       "4.4      1\n",
       "7.1      1\n",
       "7.6      1\n",
       "7.4      1\n",
       "6.0      1\n",
       "5.9      1\n",
       "Name: cvss_score, dtype: int64"
      ]
     },
     "execution_count": 125,
     "metadata": {},
     "output_type": "execute_result"
    }
   ],
   "source": [
    "v3"
   ]
  },
  {
   "cell_type": "code",
   "execution_count": 134,
   "id": "c1eee11c",
   "metadata": {},
   "outputs": [
    {
     "data": {
      "image/png": "[encoded data removed]",
      "text/plain": [
       "<Figure size 1584x1080 with 1 Axes>"
      ]
     },
     "metadata": {},
     "output_type": "display_data"
    }
   ],
   "source": [
    "plt.figure(figsize = (22,15))\n",
    "sns.set_style('darkgrid')\n",
    "\n",
    "sns.barplot(x = v3.index, y = v3, label  = 'SQL Injection Attack', palette = 'coolwarm') # only SQl injection attack\n",
    "\n",
    "\n",
    "plt.title('SQL Injection attack based on cvss score in 2020', fontsize = 20)\n",
    "plt.xlabel('CVSS score', fontsize = 15)\n",
    "plt.ylabel('Frequency', fontsize = 15)\n",
    "plt.legend(loc='upper left', fontsize = 15)\n",
    "plt.show() \n"
   ]
  },
  {
   "cell_type": "code",
   "execution_count": null,
   "id": "8573ef98",
   "metadata": {},
   "outputs": [],
   "source": []
  }
 ],
 "metadata": {
  "kernelspec": {
   "display_name": "Python 3",
   "language": "python",
   "name": "python3"
  },
  "language_info": {
   "codemirror_mode": {
    "name": "ipython",
    "version": 3
   },
   "file_extension": ".py",
   "mimetype": "text/x-python",
   "name": "python",
   "nbconvert_exporter": "python",
   "pygments_lexer": "ipython3",
   "version": "3.8.5"
  }
 },
 "nbformat": 4,
 "nbformat_minor": 5
}
