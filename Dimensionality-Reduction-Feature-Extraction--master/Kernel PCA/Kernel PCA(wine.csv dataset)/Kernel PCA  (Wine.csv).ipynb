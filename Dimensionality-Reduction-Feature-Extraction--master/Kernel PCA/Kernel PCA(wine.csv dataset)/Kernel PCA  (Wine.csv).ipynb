{
 "cells": [
  {
   "cell_type": "markdown",
   "metadata": {},
   "source": [
    "# Kernel PCA(principal component Analysis)"
   ]
  },
  {
   "cell_type": "markdown",
   "metadata": {},
   "source": [
    "#### if there is non- linear dataset & if we want to reduce the dimension then we can use kernel PCA."
   ]
  },
  {
   "cell_type": "markdown",
   "metadata": {},
   "source": [
    "### importing the libraries"
   ]
  },
  {
   "cell_type": "code",
   "execution_count": 1,
   "metadata": {},
   "outputs": [],
   "source": [
    "import numpy as np\n",
    "import matplotlib.pyplot as plt\n",
    "import pandas as pd"
   ]
  },
  {
   "cell_type": "markdown",
   "metadata": {},
   "source": [
    "### importing  dataset"
   ]
  },
  {
   "cell_type": "code",
   "execution_count": 2,
   "metadata": {},
   "outputs": [
    {
     "data": {
      "text/html": [
       "<div>\n",
       "<style scoped>\n",
       "    .dataframe tbody tr th:only-of-type {\n",
       "        vertical-align: middle;\n",
       "    }\n",
       "\n",
       "    .dataframe tbody tr th {\n",
       "        vertical-align: top;\n",
       "    }\n",
       "\n",
       "    .dataframe thead th {\n",
       "        text-align: right;\n",
       "    }\n",
       "</style>\n",
       "<table border=\"1\" class=\"dataframe\">\n",
       "  <thead>\n",
       "    <tr style=\"text-align: right;\">\n",
       "      <th></th>\n",
       "      <th>Alcohol</th>\n",
       "      <th>Malic_Acid</th>\n",
       "      <th>Ash</th>\n",
       "      <th>Ash_Alcanity</th>\n",
       "      <th>Magnesium</th>\n",
       "      <th>Total_Phenols</th>\n",
       "      <th>Flavanoids</th>\n",
       "      <th>Nonflavanoid_Phenols</th>\n",
       "      <th>Proanthocyanins</th>\n",
       "      <th>Color_Intensity</th>\n",
       "      <th>Hue</th>\n",
       "      <th>OD280</th>\n",
       "      <th>Proline</th>\n",
       "      <th>Customer_Segment</th>\n",
       "    </tr>\n",
       "  </thead>\n",
       "  <tbody>\n",
       "    <tr>\n",
       "      <th>0</th>\n",
       "      <td>14.23</td>\n",
       "      <td>1.71</td>\n",
       "      <td>2.43</td>\n",
       "      <td>15.6</td>\n",
       "      <td>127</td>\n",
       "      <td>2.80</td>\n",
       "      <td>3.06</td>\n",
       "      <td>0.28</td>\n",
       "      <td>2.29</td>\n",
       "      <td>5.64</td>\n",
       "      <td>1.04</td>\n",
       "      <td>3.92</td>\n",
       "      <td>1065</td>\n",
       "      <td>1</td>\n",
       "    </tr>\n",
       "    <tr>\n",
       "      <th>1</th>\n",
       "      <td>13.20</td>\n",
       "      <td>1.78</td>\n",
       "      <td>2.14</td>\n",
       "      <td>11.2</td>\n",
       "      <td>100</td>\n",
       "      <td>2.65</td>\n",
       "      <td>2.76</td>\n",
       "      <td>0.26</td>\n",
       "      <td>1.28</td>\n",
       "      <td>4.38</td>\n",
       "      <td>1.05</td>\n",
       "      <td>3.40</td>\n",
       "      <td>1050</td>\n",
       "      <td>1</td>\n",
       "    </tr>\n",
       "    <tr>\n",
       "      <th>2</th>\n",
       "      <td>13.16</td>\n",
       "      <td>2.36</td>\n",
       "      <td>2.67</td>\n",
       "      <td>18.6</td>\n",
       "      <td>101</td>\n",
       "      <td>2.80</td>\n",
       "      <td>3.24</td>\n",
       "      <td>0.30</td>\n",
       "      <td>2.81</td>\n",
       "      <td>5.68</td>\n",
       "      <td>1.03</td>\n",
       "      <td>3.17</td>\n",
       "      <td>1185</td>\n",
       "      <td>1</td>\n",
       "    </tr>\n",
       "    <tr>\n",
       "      <th>3</th>\n",
       "      <td>14.37</td>\n",
       "      <td>1.95</td>\n",
       "      <td>2.50</td>\n",
       "      <td>16.8</td>\n",
       "      <td>113</td>\n",
       "      <td>3.85</td>\n",
       "      <td>3.49</td>\n",
       "      <td>0.24</td>\n",
       "      <td>2.18</td>\n",
       "      <td>7.80</td>\n",
       "      <td>0.86</td>\n",
       "      <td>3.45</td>\n",
       "      <td>1480</td>\n",
       "      <td>1</td>\n",
       "    </tr>\n",
       "    <tr>\n",
       "      <th>4</th>\n",
       "      <td>13.24</td>\n",
       "      <td>2.59</td>\n",
       "      <td>2.87</td>\n",
       "      <td>21.0</td>\n",
       "      <td>118</td>\n",
       "      <td>2.80</td>\n",
       "      <td>2.69</td>\n",
       "      <td>0.39</td>\n",
       "      <td>1.82</td>\n",
       "      <td>4.32</td>\n",
       "      <td>1.04</td>\n",
       "      <td>2.93</td>\n",
       "      <td>735</td>\n",
       "      <td>1</td>\n",
       "    </tr>\n",
       "  </tbody>\n",
       "</table>\n",
       "</div>"
      ],
      "text/plain": [
       "   Alcohol  Malic_Acid   Ash  Ash_Alcanity  Magnesium  Total_Phenols  \\\n",
       "0    14.23        1.71  2.43          15.6        127           2.80   \n",
       "1    13.20        1.78  2.14          11.2        100           2.65   \n",
       "2    13.16        2.36  2.67          18.6        101           2.80   \n",
       "3    14.37        1.95  2.50          16.8        113           3.85   \n",
       "4    13.24        2.59  2.87          21.0        118           2.80   \n",
       "\n",
       "   Flavanoids  Nonflavanoid_Phenols  Proanthocyanins  Color_Intensity   Hue  \\\n",
       "0        3.06                  0.28             2.29             5.64  1.04   \n",
       "1        2.76                  0.26             1.28             4.38  1.05   \n",
       "2        3.24                  0.30             2.81             5.68  1.03   \n",
       "3        3.49                  0.24             2.18             7.80  0.86   \n",
       "4        2.69                  0.39             1.82             4.32  1.04   \n",
       "\n",
       "   OD280  Proline  Customer_Segment  \n",
       "0   3.92     1065                 1  \n",
       "1   3.40     1050                 1  \n",
       "2   3.17     1185                 1  \n",
       "3   3.45     1480                 1  \n",
       "4   2.93      735                 1  "
      ]
     },
     "execution_count": 2,
     "metadata": {},
     "output_type": "execute_result"
    }
   ],
   "source": [
    "dataset = pd.read_csv('Wine.csv')\n",
    "dataset.head()"
   ]
  },
  {
   "cell_type": "code",
   "execution_count": 3,
   "metadata": {},
   "outputs": [
    {
     "name": "stdout",
     "output_type": "stream",
     "text": [
      "<class 'pandas.core.frame.DataFrame'>\n",
      "RangeIndex: 178 entries, 0 to 177\n",
      "Data columns (total 14 columns):\n",
      " #   Column                Non-Null Count  Dtype  \n",
      "---  ------                --------------  -----  \n",
      " 0   Alcohol               178 non-null    float64\n",
      " 1   Malic_Acid            178 non-null    float64\n",
      " 2   Ash                   178 non-null    float64\n",
      " 3   Ash_Alcanity          178 non-null    float64\n",
      " 4   Magnesium             178 non-null    int64  \n",
      " 5   Total_Phenols         178 non-null    float64\n",
      " 6   Flavanoids            178 non-null    float64\n",
      " 7   Nonflavanoid_Phenols  178 non-null    float64\n",
      " 8   Proanthocyanins       178 non-null    float64\n",
      " 9   Color_Intensity       178 non-null    float64\n",
      " 10  Hue                   178 non-null    float64\n",
      " 11  OD280                 178 non-null    float64\n",
      " 12  Proline               178 non-null    int64  \n",
      " 13  Customer_Segment      178 non-null    int64  \n",
      "dtypes: float64(11), int64(3)\n",
      "memory usage: 19.6 KB\n"
     ]
    }
   ],
   "source": [
    "dataset.info()"
   ]
  },
  {
   "cell_type": "code",
   "execution_count": 4,
   "metadata": {},
   "outputs": [
    {
     "data": {
      "text/html": [
       "<div>\n",
       "<style scoped>\n",
       "    .dataframe tbody tr th:only-of-type {\n",
       "        vertical-align: middle;\n",
       "    }\n",
       "\n",
       "    .dataframe tbody tr th {\n",
       "        vertical-align: top;\n",
       "    }\n",
       "\n",
       "    .dataframe thead th {\n",
       "        text-align: right;\n",
       "    }\n",
       "</style>\n",
       "<table border=\"1\" class=\"dataframe\">\n",
       "  <thead>\n",
       "    <tr style=\"text-align: right;\">\n",
       "      <th></th>\n",
       "      <th>Alcohol</th>\n",
       "      <th>Malic_Acid</th>\n",
       "      <th>Ash</th>\n",
       "      <th>Ash_Alcanity</th>\n",
       "      <th>Magnesium</th>\n",
       "      <th>Total_Phenols</th>\n",
       "      <th>Flavanoids</th>\n",
       "      <th>Nonflavanoid_Phenols</th>\n",
       "      <th>Proanthocyanins</th>\n",
       "      <th>Color_Intensity</th>\n",
       "      <th>Hue</th>\n",
       "      <th>OD280</th>\n",
       "      <th>Proline</th>\n",
       "      <th>Customer_Segment</th>\n",
       "    </tr>\n",
       "  </thead>\n",
       "  <tbody>\n",
       "    <tr>\n",
       "      <th>count</th>\n",
       "      <td>178.000000</td>\n",
       "      <td>178.000000</td>\n",
       "      <td>178.000000</td>\n",
       "      <td>178.000000</td>\n",
       "      <td>178.000000</td>\n",
       "      <td>178.000000</td>\n",
       "      <td>178.000000</td>\n",
       "      <td>178.000000</td>\n",
       "      <td>178.000000</td>\n",
       "      <td>178.000000</td>\n",
       "      <td>178.000000</td>\n",
       "      <td>178.000000</td>\n",
       "      <td>178.000000</td>\n",
       "      <td>178.000000</td>\n",
       "    </tr>\n",
       "    <tr>\n",
       "      <th>mean</th>\n",
       "      <td>13.000618</td>\n",
       "      <td>2.336348</td>\n",
       "      <td>2.366517</td>\n",
       "      <td>19.494944</td>\n",
       "      <td>99.741573</td>\n",
       "      <td>2.295112</td>\n",
       "      <td>2.029270</td>\n",
       "      <td>0.361854</td>\n",
       "      <td>1.590899</td>\n",
       "      <td>5.058090</td>\n",
       "      <td>0.957449</td>\n",
       "      <td>2.611685</td>\n",
       "      <td>746.893258</td>\n",
       "      <td>1.938202</td>\n",
       "    </tr>\n",
       "    <tr>\n",
       "      <th>std</th>\n",
       "      <td>0.811827</td>\n",
       "      <td>1.117146</td>\n",
       "      <td>0.274344</td>\n",
       "      <td>3.339564</td>\n",
       "      <td>14.282484</td>\n",
       "      <td>0.625851</td>\n",
       "      <td>0.998859</td>\n",
       "      <td>0.124453</td>\n",
       "      <td>0.572359</td>\n",
       "      <td>2.318286</td>\n",
       "      <td>0.228572</td>\n",
       "      <td>0.709990</td>\n",
       "      <td>314.907474</td>\n",
       "      <td>0.775035</td>\n",
       "    </tr>\n",
       "    <tr>\n",
       "      <th>min</th>\n",
       "      <td>11.030000</td>\n",
       "      <td>0.740000</td>\n",
       "      <td>1.360000</td>\n",
       "      <td>10.600000</td>\n",
       "      <td>70.000000</td>\n",
       "      <td>0.980000</td>\n",
       "      <td>0.340000</td>\n",
       "      <td>0.130000</td>\n",
       "      <td>0.410000</td>\n",
       "      <td>1.280000</td>\n",
       "      <td>0.480000</td>\n",
       "      <td>1.270000</td>\n",
       "      <td>278.000000</td>\n",
       "      <td>1.000000</td>\n",
       "    </tr>\n",
       "    <tr>\n",
       "      <th>25%</th>\n",
       "      <td>12.362500</td>\n",
       "      <td>1.602500</td>\n",
       "      <td>2.210000</td>\n",
       "      <td>17.200000</td>\n",
       "      <td>88.000000</td>\n",
       "      <td>1.742500</td>\n",
       "      <td>1.205000</td>\n",
       "      <td>0.270000</td>\n",
       "      <td>1.250000</td>\n",
       "      <td>3.220000</td>\n",
       "      <td>0.782500</td>\n",
       "      <td>1.937500</td>\n",
       "      <td>500.500000</td>\n",
       "      <td>1.000000</td>\n",
       "    </tr>\n",
       "    <tr>\n",
       "      <th>50%</th>\n",
       "      <td>13.050000</td>\n",
       "      <td>1.865000</td>\n",
       "      <td>2.360000</td>\n",
       "      <td>19.500000</td>\n",
       "      <td>98.000000</td>\n",
       "      <td>2.355000</td>\n",
       "      <td>2.135000</td>\n",
       "      <td>0.340000</td>\n",
       "      <td>1.555000</td>\n",
       "      <td>4.690000</td>\n",
       "      <td>0.965000</td>\n",
       "      <td>2.780000</td>\n",
       "      <td>673.500000</td>\n",
       "      <td>2.000000</td>\n",
       "    </tr>\n",
       "    <tr>\n",
       "      <th>75%</th>\n",
       "      <td>13.677500</td>\n",
       "      <td>3.082500</td>\n",
       "      <td>2.557500</td>\n",
       "      <td>21.500000</td>\n",
       "      <td>107.000000</td>\n",
       "      <td>2.800000</td>\n",
       "      <td>2.875000</td>\n",
       "      <td>0.437500</td>\n",
       "      <td>1.950000</td>\n",
       "      <td>6.200000</td>\n",
       "      <td>1.120000</td>\n",
       "      <td>3.170000</td>\n",
       "      <td>985.000000</td>\n",
       "      <td>3.000000</td>\n",
       "    </tr>\n",
       "    <tr>\n",
       "      <th>max</th>\n",
       "      <td>14.830000</td>\n",
       "      <td>5.800000</td>\n",
       "      <td>3.230000</td>\n",
       "      <td>30.000000</td>\n",
       "      <td>162.000000</td>\n",
       "      <td>3.880000</td>\n",
       "      <td>5.080000</td>\n",
       "      <td>0.660000</td>\n",
       "      <td>3.580000</td>\n",
       "      <td>13.000000</td>\n",
       "      <td>1.710000</td>\n",
       "      <td>4.000000</td>\n",
       "      <td>1680.000000</td>\n",
       "      <td>3.000000</td>\n",
       "    </tr>\n",
       "  </tbody>\n",
       "</table>\n",
       "</div>"
      ],
      "text/plain": [
       "          Alcohol  Malic_Acid         Ash  Ash_Alcanity   Magnesium  \\\n",
       "count  178.000000  178.000000  178.000000    178.000000  178.000000   \n",
       "mean    13.000618    2.336348    2.366517     19.494944   99.741573   \n",
       "std      0.811827    1.117146    0.274344      3.339564   14.282484   \n",
       "min     11.030000    0.740000    1.360000     10.600000   70.000000   \n",
       "25%     12.362500    1.602500    2.210000     17.200000   88.000000   \n",
       "50%     13.050000    1.865000    2.360000     19.500000   98.000000   \n",
       "75%     13.677500    3.082500    2.557500     21.500000  107.000000   \n",
       "max     14.830000    5.800000    3.230000     30.000000  162.000000   \n",
       "\n",
       "       Total_Phenols  Flavanoids  Nonflavanoid_Phenols  Proanthocyanins  \\\n",
       "count     178.000000  178.000000            178.000000       178.000000   \n",
       "mean        2.295112    2.029270              0.361854         1.590899   \n",
       "std         0.625851    0.998859              0.124453         0.572359   \n",
       "min         0.980000    0.340000              0.130000         0.410000   \n",
       "25%         1.742500    1.205000              0.270000         1.250000   \n",
       "50%         2.355000    2.135000              0.340000         1.555000   \n",
       "75%         2.800000    2.875000              0.437500         1.950000   \n",
       "max         3.880000    5.080000              0.660000         3.580000   \n",
       "\n",
       "       Color_Intensity         Hue       OD280      Proline  Customer_Segment  \n",
       "count       178.000000  178.000000  178.000000   178.000000        178.000000  \n",
       "mean          5.058090    0.957449    2.611685   746.893258          1.938202  \n",
       "std           2.318286    0.228572    0.709990   314.907474          0.775035  \n",
       "min           1.280000    0.480000    1.270000   278.000000          1.000000  \n",
       "25%           3.220000    0.782500    1.937500   500.500000          1.000000  \n",
       "50%           4.690000    0.965000    2.780000   673.500000          2.000000  \n",
       "75%           6.200000    1.120000    3.170000   985.000000          3.000000  \n",
       "max          13.000000    1.710000    4.000000  1680.000000          3.000000  "
      ]
     },
     "execution_count": 4,
     "metadata": {},
     "output_type": "execute_result"
    }
   ],
   "source": [
    "dataset.describe()"
   ]
  },
  {
   "cell_type": "markdown",
   "metadata": {},
   "source": [
    "### dependent and indendent varible "
   ]
  },
  {
   "cell_type": "code",
   "execution_count": 5,
   "metadata": {},
   "outputs": [],
   "source": [
    "X = dataset.iloc[:,0:13].values\n",
    "y = dataset.iloc[:,13].values"
   ]
  },
  {
   "cell_type": "code",
   "execution_count": 6,
   "metadata": {},
   "outputs": [
    {
     "name": "stdout",
     "output_type": "stream",
     "text": [
      "[[1.423e+01 1.710e+00 2.430e+00 ... 1.040e+00 3.920e+00 1.065e+03]\n",
      " [1.320e+01 1.780e+00 2.140e+00 ... 1.050e+00 3.400e+00 1.050e+03]\n",
      " [1.316e+01 2.360e+00 2.670e+00 ... 1.030e+00 3.170e+00 1.185e+03]\n",
      " ...\n",
      " [1.327e+01 4.280e+00 2.260e+00 ... 5.900e-01 1.560e+00 8.350e+02]\n",
      " [1.317e+01 2.590e+00 2.370e+00 ... 6.000e-01 1.620e+00 8.400e+02]\n",
      " [1.413e+01 4.100e+00 2.740e+00 ... 6.100e-01 1.600e+00 5.600e+02]]\n"
     ]
    }
   ],
   "source": [
    "print(X)"
   ]
  },
  {
   "cell_type": "code",
   "execution_count": 7,
   "metadata": {},
   "outputs": [
    {
     "name": "stdout",
     "output_type": "stream",
     "text": [
      "[1 1 1 1 1 1 1 1 1 1 1 1 1 1 1 1 1 1 1 1 1 1 1 1 1 1 1 1 1 1 1 1 1 1 1 1 1\n",
      " 1 1 1 1 1 1 1 1 1 1 1 1 1 1 1 1 1 1 1 1 1 1 2 2 2 2 2 2 2 2 2 2 2 2 2 2 2\n",
      " 2 2 2 2 2 2 2 2 2 2 2 2 2 2 2 2 2 2 2 2 2 2 2 2 2 2 2 2 2 2 2 2 2 2 2 2 2\n",
      " 2 2 2 2 2 2 2 2 2 2 2 2 2 2 2 2 2 2 2 3 3 3 3 3 3 3 3 3 3 3 3 3 3 3 3 3 3\n",
      " 3 3 3 3 3 3 3 3 3 3 3 3 3 3 3 3 3 3 3 3 3 3 3 3 3 3 3 3 3 3]\n"
     ]
    }
   ],
   "source": [
    "print(y)"
   ]
  },
  {
   "cell_type": "markdown",
   "metadata": {},
   "source": [
    "### splitting data into train set and test set"
   ]
  },
  {
   "cell_type": "code",
   "execution_count": 8,
   "metadata": {},
   "outputs": [],
   "source": [
    "from sklearn.model_selection import train_test_split\n",
    "X_train, X_test, y_train, y_test = train_test_split(X,y,test_size = 0.2, random_state = 0)"
   ]
  },
  {
   "cell_type": "markdown",
   "metadata": {},
   "source": [
    "### Feature scaling"
   ]
  },
  {
   "cell_type": "code",
   "execution_count": 9,
   "metadata": {},
   "outputs": [],
   "source": [
    "from sklearn.preprocessing import StandardScaler\n",
    "sc = StandardScaler()\n",
    "X_train = sc.fit_transform(X_train)\n",
    "X_test =  sc.transform(X_test)"
   ]
  },
  {
   "cell_type": "code",
   "execution_count": 10,
   "metadata": {},
   "outputs": [
    {
     "name": "stdout",
     "output_type": "stream",
     "text": [
      "[[ 0.87668336  0.79842885  0.64412971 ...  0.0290166  -1.06412236\n",
      "  -0.2059076 ]\n",
      " [-0.36659076 -0.7581304  -0.39779858 ...  0.0290166  -0.73083231\n",
      "  -0.81704676]\n",
      " [-1.69689407 -0.34424759 -0.32337513 ...  0.90197362  0.51900537\n",
      "  -1.31256499]\n",
      " ...\n",
      " [-0.70227477 -0.68615078 -0.65828065 ...  0.46549511  0.51900537\n",
      "  -1.31256499]\n",
      " [ 1.13777093 -0.62316862 -0.91876272 ... -0.18922266  1.03282752\n",
      "   0.80164614]\n",
      " [ 1.4610222   0.12361993  0.42085937 ... -1.45501034 -1.2168803\n",
      "  -0.2719767 ]]\n"
     ]
    }
   ],
   "source": [
    "print(X_train)"
   ]
  },
  {
   "cell_type": "code",
   "execution_count": 11,
   "metadata": {},
   "outputs": [
    {
     "name": "stdout",
     "output_type": "stream",
     "text": [
      "[[ 9.38847070e-01 -6.32166068e-01 -4.35010303e-01 -9.19695615e-01\n",
      "   1.26324041e+00  5.59998633e-01  9.77754158e-01 -1.20637533e+00\n",
      "   2.36680192e-02  3.39284695e-01 -1.45574805e-01  8.52295413e-01\n",
      "   1.04940526e+00]\n",
      " [-2.42263344e-01  2.67579163e-01  4.20859365e-01  7.12764102e-01\n",
      "   8.40672358e-01 -1.27747161e+00 -6.05828120e-01 -9.70634096e-01\n",
      "  -5.87397203e-01  2.42611713e+00 -2.06608025e+00 -1.55017035e+00\n",
      "  -8.66598582e-01]\n",
      " [-7.64438475e-01 -1.11802849e+00 -7.69915825e-01 -1.61767889e-01\n",
      "  -9.20027861e-01  2.03653722e+00  1.18341419e+00 -1.36353615e+00\n",
      "   4.48018868e-01 -2.50930538e-01  1.16386073e+00  3.94021597e-01\n",
      "  -1.06480588e+00]\n",
      " [ 7.15057728e-01 -5.78181354e-01  3.46435916e-01  2.75498106e-01\n",
      "   1.12238439e+00  1.15061407e+00  8.54358136e-01 -1.28495574e+00\n",
      "   1.43251284e+00  5.07917619e-01  1.16312302e-01  6.16214963e-01\n",
      "   1.24761256e+00]\n",
      " [ 8.09879269e-02  3.08378173e+00 -8.81550999e-01  5.67008770e-01\n",
      "  -9.90455870e-01  5.92810602e-01  7.20679112e-01 -4.99151627e-01\n",
      "   6.85655343e-01 -1.03085781e+00 -9.74883977e-01  7.13424560e-01\n",
      "  -1.19694407e+00]\n",
      " [-1.77149051e+00 -2.90262880e-01  3.21173872e+00  2.60758342e+00\n",
      "   1.33366842e+00  1.51154572e+00  3.21944855e+00  8.36715367e-01\n",
      "   4.48018868e-01  4.02522042e-01 -1.01926954e-01  1.53276259e+00\n",
      "  -9.16150406e-01]\n",
      " [ 1.33669479e+00 -2.00288357e-01  9.04611787e-01 -5.69882819e-01\n",
      "   1.47452444e+00  5.59998633e-01  5.76717087e-01 -4.20571216e-01\n",
      "  -6.04371237e-01  2.01884783e-03  4.65495111e-01  1.38000466e+00\n",
      "   1.82571717e+00]\n",
      " [-7.76871216e-01  1.31128363e+00  4.87421183e-02  4.21253438e-01\n",
      "  -8.49599852e-01  6.78191041e-02 -1.05828020e+00  1.07245660e+00\n",
      "  -9.60825950e-01  1.09813285e+00 -1.71689745e+00 -1.39741241e+00\n",
      "  -7.34460386e-01]\n",
      " [-9.13631369e-01 -5.78181354e-01 -9.18762724e-01 -1.61767889e-01\n",
      "  -1.41302392e+00 -9.98569875e-01  8.31330005e-02  5.09112525e-02\n",
      "   4.06420531e-02 -6.93591962e-01  2.03608004e-01  8.10634157e-01\n",
      "  -7.67494935e-01]\n",
      " [-1.12498797e+00 -4.88206831e-01 -1.74528230e-01 -3.07523221e-01\n",
      "  -1.34259591e+00 -1.08059980e+00 -4.61866095e-01  1.22961742e+00\n",
      "   5.76160871e-02 -1.11517427e+00  5.52790813e-01 -4.39203523e-01\n",
      "  -8.66598582e-01]\n",
      " [ 4.66402904e-01  1.68607187e-01 -6.28930558e-02  1.29742774e-01\n",
      "  -7.79171843e-01 -1.40871948e+00 -1.49016628e+00  5.09112525e-02\n",
      "  -1.63978731e+00  2.33889118e-01 -1.10582753e+00 -1.61461816e-01\n",
      "   1.24437889e-01]\n",
      " [ 1.11290545e+00  2.39997536e+00 -5.09433752e-01  1.29742774e-01\n",
      "  -1.41302392e+00 -2.09777082e+00 -1.65469430e+00  2.86652487e-01\n",
      "  -1.57189117e+00 -6.12184986e-02 -1.62960174e+00 -1.74458954e+00\n",
      "  -1.08132315e+00]\n",
      " [ 1.51075317e+00 -5.51188997e-01  3.09224191e-01 -1.26950841e+00\n",
      "   8.40672358e-01  1.65919958e+00  1.48162125e+00 -1.84829982e-01\n",
      "   6.17759208e-01  7.18708773e-01  4.21847260e-01  3.66247427e-01\n",
      "   2.33775268e+00]\n",
      " [-7.64438475e-01 -1.17201321e+00 -9.93186174e-01 -3.07523221e-01\n",
      "  -8.49599852e-01  2.06934919e+00  1.85180931e+00 -9.70634096e-01\n",
      "   5.83811140e-01 -2.29851422e-01  3.78199409e-01  2.55150744e-01\n",
      "  -2.71976699e-01]\n",
      " [ 7.39923211e-01  1.86602092e-01  1.20230558e+00  1.44154076e+00\n",
      "   3.47676297e-01 -1.16262972e+00 -1.14054421e+00  2.08072075e-01\n",
      "  -1.12124252e-01  1.52393098e+00 -9.31236125e-01 -1.09189653e+00\n",
      "   2.53342422e-02]\n",
      " [-1.22444990e+00 -1.30697499e+00 -1.36530342e+00 -1.61767889e-01\n",
      "  -9.90455870e-01  2.64690916e-01  3.19642042e-01 -4.99151627e-01\n",
      "  -2.98838626e-01 -1.07301604e+00  1.86222635e+00  7.41198731e-01\n",
      "  -1.53389647e+00]\n",
      " [ 9.63712552e-01 -7.58130400e-01  1.23951731e+00 -1.60125576e-02\n",
      "   2.24923253e+00  1.13420808e+00  8.13226129e-01  1.07245660e+00\n",
      "  -4.34630898e-01  1.49572656e-01  1.29480428e+00  5.74553707e-01\n",
      "   1.62750987e+00]\n",
      " [ 1.49832042e+00 -7.04145686e-01  4.20859365e-01 -8.90544549e-01\n",
      "   5.58960323e-01  1.70841753e+00  2.03690334e+00 -3.41990805e-01\n",
      "   4.31044834e-01  1.54079428e+00  1.20750858e+00  3.24586171e-01\n",
      "   3.09754730e+00]\n",
      " [-4.28754462e-01 -9.11087089e-01 -1.29087997e+00 -8.03091350e-01\n",
      "  -4.46374703e-03 -3.91548456e-01 -5.54413111e-01  1.30819784e+00\n",
      "  -1.67373538e+00  2.97126464e-01  1.16312302e-01 -1.38352533e+00\n",
      "  -9.65702229e-01]\n",
      " [ 1.05074174e+00 -6.50160973e-01  8.67400062e-01 -6.86487084e-01\n",
      "  -4.27031800e-01  3.13908869e-01  1.07030117e+00 -1.12779492e+00\n",
      "   1.16092829e+00  2.33889118e-01  1.25115643e+00  1.08837586e+00\n",
      "   1.72661352e+00]\n",
      " [ 1.55584374e-01 -1.22599792e+00 -2.48165516e+00 -1.32781054e+00\n",
      "  -1.55387994e+00  1.18342604e+00  1.26567821e+00 -8.13473273e-01\n",
      "   1.14395426e+00  1.07414425e-01  7.27382218e-01  8.24521243e-01\n",
      "  -7.93922574e-01]\n",
      " [ 8.09879269e-02 -6.50160973e-01  6.81341438e-01 -4.53278553e-01\n",
      "  -1.45319765e-01  3.13908869e-01  4.94453073e-01 -5.77732039e-01\n",
      "  -2.81864592e-01 -3.35247000e-01  7.27382218e-01 -1.05913475e-01\n",
      "   1.19806073e+00]\n",
      " [ 3.17210010e-01  1.95599544e-01  1.87211663e+00  4.21253438e-01\n",
      "   1.26324041e+00  8.88118319e-01  7.61811120e-01  2.08072075e-01\n",
      "   3.63148698e-01 -3.05736238e-01  3.78199409e-01  4.77344109e-01\n",
      "  -2.42175814e-02]\n",
      " [-5.90380098e-01 -5.78181354e-01 -1.43972687e+00  2.75498106e-01\n",
      "  -1.06088388e+00 -9.62407389e-02 -2.99800193e-02 -3.41990805e-01\n",
      "  -2.13968456e-01 -8.87519825e-01  3.78199409e-01  1.36611757e+00\n",
      "  -2.32335240e-01]\n",
      " [-8.14169440e-01 -1.14502085e+00 -3.23375129e-01 -1.03629988e+00\n",
      "   6.59642617e-02 -3.42330503e-01 -8.83469169e-01  2.09400195e+00\n",
      "  -2.03019009e+00 -7.48397663e-01  1.29480428e+00 -1.27242864e+00\n",
      "  -2.05907601e-01]\n",
      " [-5.77947357e-01  5.16403072e-02 -7.32704101e-01  4.21253438e-01\n",
      "  -8.49599852e-01  4.77968712e-01  3.29925044e-01 -8.13473273e-01\n",
      "  -6.55293339e-01 -1.28380720e+00 -2.32870507e-01  2.69037829e-01\n",
      "  -1.37863409e+00]\n",
      " [-6.89842028e-01 -7.58130400e-01 -2.86163404e-01  5.67008770e-01\n",
      "  -9.90455870e-01  7.89682413e-01  1.23482920e+00  2.08072075e-01\n",
      "   2.78278529e-01 -4.65937515e-01 -1.14947538e+00  3.52360341e-01\n",
      "  -1.28944081e+00]\n",
      " [-1.02552604e+00 -6.86150782e-01 -2.11739955e-01  9.45972633e-01\n",
      "  -7.08743835e-01 -7.85292079e-01 -2.66489061e-01  5.22393721e-01\n",
      "  -7.81761846e-02 -1.09409516e+00  1.64398709e+00 -4.53090608e-01\n",
      "  -8.17046759e-01]\n",
      " [-1.52283569e+00  2.76576615e-01  2.05817525e+00  1.29742774e-01\n",
      "   2.06820279e-01 -8.34510032e-01  8.31330005e-02  1.85826072e+00\n",
      "  -9.43851916e-01 -5.24959039e-01  1.20750858e+00 -1.19800560e-01\n",
      "  -4.47059809e-01]\n",
      " [ 9.88578035e-01  3.48556233e-01 -2.48951679e-01  7.12764102e-01\n",
      "  -7.08743835e-01 -1.49074940e+00 -1.30507224e+00  3.65232898e-01\n",
      "  -9.77799984e-01  1.91178671e+00 -1.10582753e+00 -1.25854156e+00\n",
      "  -4.20632170e-01]\n",
      " [ 5.03701128e-01 -5.42191545e-01  9.41823511e-01 -1.00714881e+00\n",
      "  -4.97459808e-01  9.70148241e-01  1.01888616e+00 -1.84829982e-01\n",
      "  -2.64890558e-01 -1.03376729e-01 -1.45574805e-01  8.80069584e-01\n",
      "   1.49537167e+00]\n",
      " [ 1.53561865e+00 -6.05173711e-01 -2.48951679e-01 -9.48846682e-01\n",
      "   1.26324041e+00  1.54435769e+00  1.08058418e+00 -8.13473273e-01\n",
      "   7.19603411e-01  5.62723319e-01 -5.82791026e-02  1.00505335e+00\n",
      "   7.52094321e-01]\n",
      " [-1.17471893e+00  1.73416389e+00  4.87421183e-02  7.12764102e-01\n",
      "  -1.41302392e+00 -2.60300582e-01 -2.04791050e-01  4.43813310e-01\n",
      "  -4.34630898e-01 -1.03085781e+00 -7.12996870e-01 -2.25909628e-02\n",
      "  -5.36253092e-01]\n",
      " [ 1.52318591e+00  1.50023013e+00  2.72012467e-01 -1.90918956e-01\n",
      "   7.70244349e-01  9.70148241e-01  7.20679112e-01 -4.99151627e-01\n",
      "  -6.04371237e-01  8.21194866e-02 -3.63814061e-01  1.03282752e+00\n",
      "   1.11547436e+00]\n",
      " [ 2.29401586e+00 -6.59158425e-01 -7.32704101e-01 -1.61932121e+00\n",
      "  -2.15747773e-01  8.88118319e-01  1.06001817e+00 -5.77732039e-01\n",
      "   6.34733242e-01  6.52561942e-02  5.52790813e-01  3.66247427e-01\n",
      "   9.99853439e-01]\n",
      " [ 8.09879269e-02 -5.42191545e-01 -9.93186174e-01 -7.44789217e-01\n",
      "   4.88532314e-01  1.21623801e+00  1.08058418e+00 -6.56312450e-01\n",
      "   7.19603411e-01 -2.19697526e-03 -3.20166209e-01  1.06060169e+00\n",
      "   4.71300654e-01]]\n"
     ]
    }
   ],
   "source": [
    "print(X_test)"
   ]
  },
  {
   "cell_type": "markdown",
   "metadata": {},
   "source": [
    "### Applynig PCA"
   ]
  },
  {
   "cell_type": "raw",
   "metadata": {},
   "source": [
    "Using kernel PCA we can reduce the dimensions in the feature space. it's Feature Extraction technique, where we select some principle components. if the data is not lineary seprable then we can apply KernelPCA rather than PCA.\n"
   ]
  },
  {
   "cell_type": "code",
   "execution_count": 12,
   "metadata": {},
   "outputs": [],
   "source": [
    "from sklearn.decomposition import KernelPCA\n",
    "kpca = KernelPCA(n_components = 2, kernel = 'rbf')\n",
    "X_train = kpca.fit_transform(X_train)\n",
    "X_test  = kpca.transform(X_test)"
   ]
  },
  {
   "cell_type": "markdown",
   "metadata": {},
   "source": [
    "### Visualize the Kernel PCA"
   ]
  },
  {
   "cell_type": "markdown",
   "metadata": {},
   "source": [
    "#### visualize the  PCA for train set"
   ]
  },
  {
   "cell_type": "code",
   "execution_count": 13,
   "metadata": {},
   "outputs": [
    {
     "data": {
      "text/plain": [
       "Text(0, 0.5, 'PC2')"
      ]
     },
     "execution_count": 13,
     "metadata": {},
     "output_type": "execute_result"
    },
    {
     "data": {
      "image/png": "[encoded data removed]",
      "text/plain": [
       "<Figure size 576x432 with 1 Axes>"
      ]
     },
     "metadata": {
      "needs_background": "light"
     },
     "output_type": "display_data"
    }
   ],
   "source": [
    "plt.figure(figsize = (8,6))\n",
    "plt.scatter(X_train[:,0], X_train[:,1], c = y_train)\n",
    "plt.xlabel('PC1')\n",
    "plt.ylabel('PC2')"
   ]
  },
  {
   "cell_type": "markdown",
   "metadata": {},
   "source": [
    "#### visualize the  PCA for test set"
   ]
  },
  {
   "cell_type": "code",
   "execution_count": 14,
   "metadata": {},
   "outputs": [
    {
     "data": {
      "text/plain": [
       "Text(0, 0.5, 'PC2')"
      ]
     },
     "execution_count": 14,
     "metadata": {},
     "output_type": "execute_result"
    },
    {
     "data": {
      "image/png": "[encoded data removed]",
      "text/plain": [
       "<Figure size 576x432 with 1 Axes>"
      ]
     },
     "metadata": {
      "needs_background": "light"
     },
     "output_type": "display_data"
    }
   ],
   "source": [
    "plt.figure(figsize = (8,6))\n",
    "plt.scatter(X_test[:,0], X_test[:,1], c = y_test)\n",
    "plt.xlabel('PC1')\n",
    "plt.ylabel('PC2')"
   ]
  },
  {
   "cell_type": "markdown",
   "metadata": {},
   "source": [
    "### Fitting Logistic regression on the train set"
   ]
  },
  {
   "cell_type": "code",
   "execution_count": 15,
   "metadata": {},
   "outputs": [
    {
     "data": {
      "text/plain": [
       "LogisticRegression(C=1.0, class_weight=None, dual=False, fit_intercept=True,\n",
       "                   intercept_scaling=1, l1_ratio=None, max_iter=100,\n",
       "                   multi_class='auto', n_jobs=None, penalty='l2',\n",
       "                   random_state=0, solver='lbfgs', tol=0.0001, verbose=0,\n",
       "                   warm_start=False)"
      ]
     },
     "execution_count": 15,
     "metadata": {},
     "output_type": "execute_result"
    }
   ],
   "source": [
    "from sklearn.linear_model import LogisticRegression\n",
    "classifier = LogisticRegression(random_state = 0)\n",
    "classifier.fit(X_train, y_train)"
   ]
  },
  {
   "cell_type": "markdown",
   "metadata": {},
   "source": [
    "### predict the test set"
   ]
  },
  {
   "cell_type": "code",
   "execution_count": 16,
   "metadata": {},
   "outputs": [],
   "source": [
    "y_pred = classifier.predict(X_test)"
   ]
  },
  {
   "cell_type": "markdown",
   "metadata": {},
   "source": [
    "### Evaluate the prediction"
   ]
  },
  {
   "cell_type": "code",
   "execution_count": 17,
   "metadata": {},
   "outputs": [
    {
     "name": "stdout",
     "output_type": "stream",
     "text": [
      "[[14  0  0]\n",
      " [ 0 16  0]\n",
      " [ 0  0  6]]\n",
      "1.0\n"
     ]
    }
   ],
   "source": [
    "from sklearn.metrics import confusion_matrix, accuracy_score\n",
    "cm = confusion_matrix(y_test, y_pred)\n",
    "print(cm)\n",
    "\n",
    "print(accuracy_score(y_test, y_pred))"
   ]
  },
  {
   "cell_type": "markdown",
   "metadata": {},
   "source": [
    "### visualizing the training set result"
   ]
  },
  {
   "cell_type": "code",
   "execution_count": 18,
   "metadata": {},
   "outputs": [
    {
     "data": {
      "image/png": "[encoded data removed]",
      "text/plain": [
       "<Figure size 432x288 with 1 Axes>"
      ]
     },
     "metadata": {
      "needs_background": "light"
     },
     "output_type": "display_data"
    }
   ],
   "source": [
    "from matplotlib.colors import ListedColormap\n",
    "X_set, y_set = X_train, y_train\n",
    "X1, X2 = np.meshgrid(np.arange(start =  X_set[:, 0].min() - 1, stop = X_set[:, 0].max() + 1, step = 0.01),\n",
    "                     np.arange(start =  X_set[:, 1].min() - 1, stop = X_set[:, 1].max() + 1, step = 0.01))\n",
    "plt.contourf(X1, X2, classifier.predict(np.array([X1.ravel(), X2.ravel()]).T).reshape(X1.shape),\n",
    "             alpha = 0.75, cmap = ListedColormap(('red', 'green', 'blue')))\n",
    "\n",
    "plt.xlim(X1.min(), X1.max())\n",
    "plt.ylim(X2.min(), X2.max())\n",
    "\n",
    "for i,j in enumerate(np.unique(y_set)):\n",
    "    plt.scatter(X_set[y_set == j, 0], X_set[y_set == j,1],\n",
    "               color = ListedColormap(('red', 'green', 'blue'))(i), label = j)\n",
    "    \n",
    "plt.title('LogisticRegression(train_set)')\n",
    "plt.xlabel('PC1')\n",
    "plt.ylabel('PC2')\n",
    "plt.legend()\n",
    "plt.show()"
   ]
  },
  {
   "cell_type": "markdown",
   "metadata": {},
   "source": [
    "### visualizing the test set result"
   ]
  },
  {
   "cell_type": "code",
   "execution_count": 19,
   "metadata": {},
   "outputs": [
    {
     "data": {
      "image/png": "[encoded data removed]",
      "text/plain": [
       "<Figure size 432x288 with 1 Axes>"
      ]
     },
     "metadata": {
      "needs_background": "light"
     },
     "output_type": "display_data"
    }
   ],
   "source": [
    "from matplotlib.colors import ListedColormap\n",
    "X_set, y_set = X_test, y_test\n",
    "X1, X2 = np.meshgrid(np.arange(start =  X_set[:, 0].min() - 1, stop = X_set[:, 0].max() + 1, step = 0.01),\n",
    "                     np.arange(start =  X_set[:, 1].min() - 1, stop = X_set[:, 1].max() + 1, step = 0.01))\n",
    "plt.contourf(X1, X2, classifier.predict(np.array([X1.ravel(), X2.ravel()]).T).reshape(X1.shape),\n",
    "             alpha = 0.75, cmap = ListedColormap(('red', 'green', 'blue')))\n",
    "\n",
    "plt.xlim(X1.min(), X1.max())\n",
    "plt.ylim(X2.min(), X2.max())\n",
    "\n",
    "for i,j in enumerate(np.unique(y_set)):\n",
    "    plt.scatter(X_set[y_set == j, 0], X_set[y_set == j,1],\n",
    "               color = ListedColormap(('red', 'green', 'blue'))(i), label = j)\n",
    "    \n",
    "plt.title('LogisticRegression(test_set)')\n",
    "plt.xlabel('PC1')\n",
    "plt.ylabel('PC2')\n",
    "plt.legend()\n",
    "plt.show()"
   ]
  },
  {
   "cell_type": "code",
   "execution_count": null,
   "metadata": {},
   "outputs": [],
   "source": []
  }
 ],
 "metadata": {
  "kernelspec": {
   "display_name": "Python 3",
   "language": "python",
   "name": "python3"
  },
  "language_info": {
   "codemirror_mode": {
    "name": "ipython",
    "version": 3
   },
   "file_extension": ".py",
   "mimetype": "text/x-python",
   "name": "python",
   "nbconvert_exporter": "python",
   "pygments_lexer": "ipython3",
   "version": "3.7.7"
  }
 },
 "nbformat": 4,
 "nbformat_minor": 4
}
