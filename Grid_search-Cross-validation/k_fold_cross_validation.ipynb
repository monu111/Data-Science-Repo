{
 "cells": [
  {
   "cell_type": "markdown",
   "metadata": {
    "colab_type": "text",
    "id": "taLo6Q7NxKRE"
   },
   "source": [
    "# k-Fold Cross Validation"
   ]
  },
  {
   "cell_type": "markdown",
   "metadata": {
    "colab_type": "text",
    "id": "xQ1Zs9MKxXJ1"
   },
   "source": [
    "## Importing the libraries"
   ]
  },
  {
   "cell_type": "code",
   "execution_count": 1,
   "metadata": {
    "colab": {},
    "colab_type": "code",
    "id": "D3x14CwtxcV5"
   },
   "outputs": [],
   "source": [
    "import numpy as np\n",
    "import matplotlib.pyplot as plt\n",
    "import pandas as pd"
   ]
  },
  {
   "cell_type": "markdown",
   "metadata": {
    "colab_type": "text",
    "id": "1L1wq9evxg83"
   },
   "source": [
    "## Importing the dataset"
   ]
  },
  {
   "cell_type": "code",
   "execution_count": 2,
   "metadata": {
    "colab": {},
    "colab_type": "code",
    "id": "TMeZ6FKbxkU6"
   },
   "outputs": [],
   "source": [
    "dataset = pd.read_csv('Social_Network_Ads.csv')\n",
    "X = dataset.iloc[:, [2, 3]].values\n",
    "y = dataset.iloc[:, -1].values"
   ]
  },
  {
   "cell_type": "code",
   "execution_count": 3,
   "metadata": {},
   "outputs": [
    {
     "name": "stdout",
     "output_type": "stream",
     "text": [
      "[[1.90e+01 1.90e+04]\n",
      " [3.50e+01 2.00e+04]\n",
      " [2.60e+01 4.30e+04]\n",
      " [2.70e+01 5.70e+04]\n",
      " [1.90e+01 7.60e+04]\n",
      " [2.70e+01 5.80e+04]\n",
      " [2.70e+01 8.40e+04]\n",
      " [3.20e+01 1.50e+05]\n",
      " [2.50e+01 3.30e+04]\n",
      " [3.50e+01 6.50e+04]\n",
      " [2.60e+01 8.00e+04]\n",
      " [2.60e+01 5.20e+04]\n",
      " [2.00e+01 8.60e+04]\n",
      " [3.20e+01 1.80e+04]\n",
      " [1.80e+01 8.20e+04]\n",
      " [2.90e+01 8.00e+04]\n",
      " [4.70e+01 2.50e+04]\n",
      " [4.50e+01 2.60e+04]\n",
      " [4.60e+01 2.80e+04]\n",
      " [4.80e+01 2.90e+04]\n",
      " [4.50e+01 2.20e+04]\n",
      " [4.70e+01 4.90e+04]\n",
      " [4.80e+01 4.10e+04]\n",
      " [4.50e+01 2.20e+04]\n",
      " [4.60e+01 2.30e+04]\n",
      " [4.70e+01 2.00e+04]\n",
      " [4.90e+01 2.80e+04]\n",
      " [4.70e+01 3.00e+04]\n",
      " [2.90e+01 4.30e+04]\n",
      " [3.10e+01 1.80e+04]\n",
      " [3.10e+01 7.40e+04]\n",
      " [2.70e+01 1.37e+05]\n",
      " [2.10e+01 1.60e+04]\n",
      " [2.80e+01 4.40e+04]\n",
      " [2.70e+01 9.00e+04]\n",
      " [3.50e+01 2.70e+04]\n",
      " [3.30e+01 2.80e+04]\n",
      " [3.00e+01 4.90e+04]\n",
      " [2.60e+01 7.20e+04]\n",
      " [2.70e+01 3.10e+04]\n",
      " [2.70e+01 1.70e+04]\n",
      " [3.30e+01 5.10e+04]\n",
      " [3.50e+01 1.08e+05]\n",
      " [3.00e+01 1.50e+04]\n",
      " [2.80e+01 8.40e+04]\n",
      " [2.30e+01 2.00e+04]\n",
      " [2.50e+01 7.90e+04]\n",
      " [2.70e+01 5.40e+04]\n",
      " [3.00e+01 1.35e+05]\n",
      " [3.10e+01 8.90e+04]\n",
      " [2.40e+01 3.20e+04]\n",
      " [1.80e+01 4.40e+04]\n",
      " [2.90e+01 8.30e+04]\n",
      " [3.50e+01 2.30e+04]\n",
      " [2.70e+01 5.80e+04]\n",
      " [2.40e+01 5.50e+04]\n",
      " [2.30e+01 4.80e+04]\n",
      " [2.80e+01 7.90e+04]\n",
      " [2.20e+01 1.80e+04]\n",
      " [3.20e+01 1.17e+05]\n",
      " [2.70e+01 2.00e+04]\n",
      " [2.50e+01 8.70e+04]\n",
      " [2.30e+01 6.60e+04]\n",
      " [3.20e+01 1.20e+05]\n",
      " [5.90e+01 8.30e+04]\n",
      " [2.40e+01 5.80e+04]\n",
      " [2.40e+01 1.90e+04]\n",
      " [2.30e+01 8.20e+04]\n",
      " [2.20e+01 6.30e+04]\n",
      " [3.10e+01 6.80e+04]\n",
      " [2.50e+01 8.00e+04]\n",
      " [2.40e+01 2.70e+04]\n",
      " [2.00e+01 2.30e+04]\n",
      " [3.30e+01 1.13e+05]\n",
      " [3.20e+01 1.80e+04]\n",
      " [3.40e+01 1.12e+05]\n",
      " [1.80e+01 5.20e+04]\n",
      " [2.20e+01 2.70e+04]\n",
      " [2.80e+01 8.70e+04]\n",
      " [2.60e+01 1.70e+04]\n",
      " [3.00e+01 8.00e+04]\n",
      " [3.90e+01 4.20e+04]\n",
      " [2.00e+01 4.90e+04]\n",
      " [3.50e+01 8.80e+04]\n",
      " [3.00e+01 6.20e+04]\n",
      " [3.10e+01 1.18e+05]\n",
      " [2.40e+01 5.50e+04]\n",
      " [2.80e+01 8.50e+04]\n",
      " [2.60e+01 8.10e+04]\n",
      " [3.50e+01 5.00e+04]\n",
      " [2.20e+01 8.10e+04]\n",
      " [3.00e+01 1.16e+05]\n",
      " [2.60e+01 1.50e+04]\n",
      " [2.90e+01 2.80e+04]\n",
      " [2.90e+01 8.30e+04]\n",
      " [3.50e+01 4.40e+04]\n",
      " [3.50e+01 2.50e+04]\n",
      " [2.80e+01 1.23e+05]\n",
      " [3.50e+01 7.30e+04]\n",
      " [2.80e+01 3.70e+04]\n",
      " [2.70e+01 8.80e+04]\n",
      " [2.80e+01 5.90e+04]\n",
      " [3.20e+01 8.60e+04]\n",
      " [3.30e+01 1.49e+05]\n",
      " [1.90e+01 2.10e+04]\n",
      " [2.10e+01 7.20e+04]\n",
      " [2.60e+01 3.50e+04]\n",
      " [2.70e+01 8.90e+04]\n",
      " [2.60e+01 8.60e+04]\n",
      " [3.80e+01 8.00e+04]\n",
      " [3.90e+01 7.10e+04]\n",
      " [3.70e+01 7.10e+04]\n",
      " [3.80e+01 6.10e+04]\n",
      " [3.70e+01 5.50e+04]\n",
      " [4.20e+01 8.00e+04]\n",
      " [4.00e+01 5.70e+04]\n",
      " [3.50e+01 7.50e+04]\n",
      " [3.60e+01 5.20e+04]\n",
      " [4.00e+01 5.90e+04]\n",
      " [4.10e+01 5.90e+04]\n",
      " [3.60e+01 7.50e+04]\n",
      " [3.70e+01 7.20e+04]\n",
      " [4.00e+01 7.50e+04]\n",
      " [3.50e+01 5.30e+04]\n",
      " [4.10e+01 5.10e+04]\n",
      " [3.90e+01 6.10e+04]\n",
      " [4.20e+01 6.50e+04]\n",
      " [2.60e+01 3.20e+04]\n",
      " [3.00e+01 1.70e+04]\n",
      " [2.60e+01 8.40e+04]\n",
      " [3.10e+01 5.80e+04]\n",
      " [3.30e+01 3.10e+04]\n",
      " [3.00e+01 8.70e+04]\n",
      " [2.10e+01 6.80e+04]\n",
      " [2.80e+01 5.50e+04]\n",
      " [2.30e+01 6.30e+04]\n",
      " [2.00e+01 8.20e+04]\n",
      " [3.00e+01 1.07e+05]\n",
      " [2.80e+01 5.90e+04]\n",
      " [1.90e+01 2.50e+04]\n",
      " [1.90e+01 8.50e+04]\n",
      " [1.80e+01 6.80e+04]\n",
      " [3.50e+01 5.90e+04]\n",
      " [3.00e+01 8.90e+04]\n",
      " [3.40e+01 2.50e+04]\n",
      " [2.40e+01 8.90e+04]\n",
      " [2.70e+01 9.60e+04]\n",
      " [4.10e+01 3.00e+04]\n",
      " [2.90e+01 6.10e+04]\n",
      " [2.00e+01 7.40e+04]\n",
      " [2.60e+01 1.50e+04]\n",
      " [4.10e+01 4.50e+04]\n",
      " [3.10e+01 7.60e+04]\n",
      " [3.60e+01 5.00e+04]\n",
      " [4.00e+01 4.70e+04]\n",
      " [3.10e+01 1.50e+04]\n",
      " [4.60e+01 5.90e+04]\n",
      " [2.90e+01 7.50e+04]\n",
      " [2.60e+01 3.00e+04]\n",
      " [3.20e+01 1.35e+05]\n",
      " [3.20e+01 1.00e+05]\n",
      " [2.50e+01 9.00e+04]\n",
      " [3.70e+01 3.30e+04]\n",
      " [3.50e+01 3.80e+04]\n",
      " [3.30e+01 6.90e+04]\n",
      " [1.80e+01 8.60e+04]\n",
      " [2.20e+01 5.50e+04]\n",
      " [3.50e+01 7.10e+04]\n",
      " [2.90e+01 1.48e+05]\n",
      " [2.90e+01 4.70e+04]\n",
      " [2.10e+01 8.80e+04]\n",
      " [3.40e+01 1.15e+05]\n",
      " [2.60e+01 1.18e+05]\n",
      " [3.40e+01 4.30e+04]\n",
      " [3.40e+01 7.20e+04]\n",
      " [2.30e+01 2.80e+04]\n",
      " [3.50e+01 4.70e+04]\n",
      " [2.50e+01 2.20e+04]\n",
      " [2.40e+01 2.30e+04]\n",
      " [3.10e+01 3.40e+04]\n",
      " [2.60e+01 1.60e+04]\n",
      " [3.10e+01 7.10e+04]\n",
      " [3.20e+01 1.17e+05]\n",
      " [3.30e+01 4.30e+04]\n",
      " [3.30e+01 6.00e+04]\n",
      " [3.10e+01 6.60e+04]\n",
      " [2.00e+01 8.20e+04]\n",
      " [3.30e+01 4.10e+04]\n",
      " [3.50e+01 7.20e+04]\n",
      " [2.80e+01 3.20e+04]\n",
      " [2.40e+01 8.40e+04]\n",
      " [1.90e+01 2.60e+04]\n",
      " [2.90e+01 4.30e+04]\n",
      " [1.90e+01 7.00e+04]\n",
      " [2.80e+01 8.90e+04]\n",
      " [3.40e+01 4.30e+04]\n",
      " [3.00e+01 7.90e+04]\n",
      " [2.00e+01 3.60e+04]\n",
      " [2.60e+01 8.00e+04]\n",
      " [3.50e+01 2.20e+04]\n",
      " [3.50e+01 3.90e+04]\n",
      " [4.90e+01 7.40e+04]\n",
      " [3.90e+01 1.34e+05]\n",
      " [4.10e+01 7.10e+04]\n",
      " [5.80e+01 1.01e+05]\n",
      " [4.70e+01 4.70e+04]\n",
      " [5.50e+01 1.30e+05]\n",
      " [5.20e+01 1.14e+05]\n",
      " [4.00e+01 1.42e+05]\n",
      " [4.60e+01 2.20e+04]\n",
      " [4.80e+01 9.60e+04]\n",
      " [5.20e+01 1.50e+05]\n",
      " [5.90e+01 4.20e+04]\n",
      " [3.50e+01 5.80e+04]\n",
      " [4.70e+01 4.30e+04]\n",
      " [6.00e+01 1.08e+05]\n",
      " [4.90e+01 6.50e+04]\n",
      " [4.00e+01 7.80e+04]\n",
      " [4.60e+01 9.60e+04]\n",
      " [5.90e+01 1.43e+05]\n",
      " [4.10e+01 8.00e+04]\n",
      " [3.50e+01 9.10e+04]\n",
      " [3.70e+01 1.44e+05]\n",
      " [6.00e+01 1.02e+05]\n",
      " [3.50e+01 6.00e+04]\n",
      " [3.70e+01 5.30e+04]\n",
      " [3.60e+01 1.26e+05]\n",
      " [5.60e+01 1.33e+05]\n",
      " [4.00e+01 7.20e+04]\n",
      " [4.20e+01 8.00e+04]\n",
      " [3.50e+01 1.47e+05]\n",
      " [3.90e+01 4.20e+04]\n",
      " [4.00e+01 1.07e+05]\n",
      " [4.90e+01 8.60e+04]\n",
      " [3.80e+01 1.12e+05]\n",
      " [4.60e+01 7.90e+04]\n",
      " [4.00e+01 5.70e+04]\n",
      " [3.70e+01 8.00e+04]\n",
      " [4.60e+01 8.20e+04]\n",
      " [5.30e+01 1.43e+05]\n",
      " [4.20e+01 1.49e+05]\n",
      " [3.80e+01 5.90e+04]\n",
      " [5.00e+01 8.80e+04]\n",
      " [5.60e+01 1.04e+05]\n",
      " [4.10e+01 7.20e+04]\n",
      " [5.10e+01 1.46e+05]\n",
      " [3.50e+01 5.00e+04]\n",
      " [5.70e+01 1.22e+05]\n",
      " [4.10e+01 5.20e+04]\n",
      " [3.50e+01 9.70e+04]\n",
      " [4.40e+01 3.90e+04]\n",
      " [3.70e+01 5.20e+04]\n",
      " [4.80e+01 1.34e+05]\n",
      " [3.70e+01 1.46e+05]\n",
      " [5.00e+01 4.40e+04]\n",
      " [5.20e+01 9.00e+04]\n",
      " [4.10e+01 7.20e+04]\n",
      " [4.00e+01 5.70e+04]\n",
      " [5.80e+01 9.50e+04]\n",
      " [4.50e+01 1.31e+05]\n",
      " [3.50e+01 7.70e+04]\n",
      " [3.60e+01 1.44e+05]\n",
      " [5.50e+01 1.25e+05]\n",
      " [3.50e+01 7.20e+04]\n",
      " [4.80e+01 9.00e+04]\n",
      " [4.20e+01 1.08e+05]\n",
      " [4.00e+01 7.50e+04]\n",
      " [3.70e+01 7.40e+04]\n",
      " [4.70e+01 1.44e+05]\n",
      " [4.00e+01 6.10e+04]\n",
      " [4.30e+01 1.33e+05]\n",
      " [5.90e+01 7.60e+04]\n",
      " [6.00e+01 4.20e+04]\n",
      " [3.90e+01 1.06e+05]\n",
      " [5.70e+01 2.60e+04]\n",
      " [5.70e+01 7.40e+04]\n",
      " [3.80e+01 7.10e+04]\n",
      " [4.90e+01 8.80e+04]\n",
      " [5.20e+01 3.80e+04]\n",
      " [5.00e+01 3.60e+04]\n",
      " [5.90e+01 8.80e+04]\n",
      " [3.50e+01 6.10e+04]\n",
      " [3.70e+01 7.00e+04]\n",
      " [5.20e+01 2.10e+04]\n",
      " [4.80e+01 1.41e+05]\n",
      " [3.70e+01 9.30e+04]\n",
      " [3.70e+01 6.20e+04]\n",
      " [4.80e+01 1.38e+05]\n",
      " [4.10e+01 7.90e+04]\n",
      " [3.70e+01 7.80e+04]\n",
      " [3.90e+01 1.34e+05]\n",
      " [4.90e+01 8.90e+04]\n",
      " [5.50e+01 3.90e+04]\n",
      " [3.70e+01 7.70e+04]\n",
      " [3.50e+01 5.70e+04]\n",
      " [3.60e+01 6.30e+04]\n",
      " [4.20e+01 7.30e+04]\n",
      " [4.30e+01 1.12e+05]\n",
      " [4.50e+01 7.90e+04]\n",
      " [4.60e+01 1.17e+05]\n",
      " [5.80e+01 3.80e+04]\n",
      " [4.80e+01 7.40e+04]\n",
      " [3.70e+01 1.37e+05]\n",
      " [3.70e+01 7.90e+04]\n",
      " [4.00e+01 6.00e+04]\n",
      " [4.20e+01 5.40e+04]\n",
      " [5.10e+01 1.34e+05]\n",
      " [4.70e+01 1.13e+05]\n",
      " [3.60e+01 1.25e+05]\n",
      " [3.80e+01 5.00e+04]\n",
      " [4.20e+01 7.00e+04]\n",
      " [3.90e+01 9.60e+04]\n",
      " [3.80e+01 5.00e+04]\n",
      " [4.90e+01 1.41e+05]\n",
      " [3.90e+01 7.90e+04]\n",
      " [3.90e+01 7.50e+04]\n",
      " [5.40e+01 1.04e+05]\n",
      " [3.50e+01 5.50e+04]\n",
      " [4.50e+01 3.20e+04]\n",
      " [3.60e+01 6.00e+04]\n",
      " [5.20e+01 1.38e+05]\n",
      " [5.30e+01 8.20e+04]\n",
      " [4.10e+01 5.20e+04]\n",
      " [4.80e+01 3.00e+04]\n",
      " [4.80e+01 1.31e+05]\n",
      " [4.10e+01 6.00e+04]\n",
      " [4.10e+01 7.20e+04]\n",
      " [4.20e+01 7.50e+04]\n",
      " [3.60e+01 1.18e+05]\n",
      " [4.70e+01 1.07e+05]\n",
      " [3.80e+01 5.10e+04]\n",
      " [4.80e+01 1.19e+05]\n",
      " [4.20e+01 6.50e+04]\n",
      " [4.00e+01 6.50e+04]\n",
      " [5.70e+01 6.00e+04]\n",
      " [3.60e+01 5.40e+04]\n",
      " [5.80e+01 1.44e+05]\n",
      " [3.50e+01 7.90e+04]\n",
      " [3.80e+01 5.50e+04]\n",
      " [3.90e+01 1.22e+05]\n",
      " [5.30e+01 1.04e+05]\n",
      " [3.50e+01 7.50e+04]\n",
      " [3.80e+01 6.50e+04]\n",
      " [4.70e+01 5.10e+04]\n",
      " [4.70e+01 1.05e+05]\n",
      " [4.10e+01 6.30e+04]\n",
      " [5.30e+01 7.20e+04]\n",
      " [5.40e+01 1.08e+05]\n",
      " [3.90e+01 7.70e+04]\n",
      " [3.80e+01 6.10e+04]\n",
      " [3.80e+01 1.13e+05]\n",
      " [3.70e+01 7.50e+04]\n",
      " [4.20e+01 9.00e+04]\n",
      " [3.70e+01 5.70e+04]\n",
      " [3.60e+01 9.90e+04]\n",
      " [6.00e+01 3.40e+04]\n",
      " [5.40e+01 7.00e+04]\n",
      " [4.10e+01 7.20e+04]\n",
      " [4.00e+01 7.10e+04]\n",
      " [4.20e+01 5.40e+04]\n",
      " [4.30e+01 1.29e+05]\n",
      " [5.30e+01 3.40e+04]\n",
      " [4.70e+01 5.00e+04]\n",
      " [4.20e+01 7.90e+04]\n",
      " [4.20e+01 1.04e+05]\n",
      " [5.90e+01 2.90e+04]\n",
      " [5.80e+01 4.70e+04]\n",
      " [4.60e+01 8.80e+04]\n",
      " [3.80e+01 7.10e+04]\n",
      " [5.40e+01 2.60e+04]\n",
      " [6.00e+01 4.60e+04]\n",
      " [6.00e+01 8.30e+04]\n",
      " [3.90e+01 7.30e+04]\n",
      " [5.90e+01 1.30e+05]\n",
      " [3.70e+01 8.00e+04]\n",
      " [4.60e+01 3.20e+04]\n",
      " [4.60e+01 7.40e+04]\n",
      " [4.20e+01 5.30e+04]\n",
      " [4.10e+01 8.70e+04]\n",
      " [5.80e+01 2.30e+04]\n",
      " [4.20e+01 6.40e+04]\n",
      " [4.80e+01 3.30e+04]\n",
      " [4.40e+01 1.39e+05]\n",
      " [4.90e+01 2.80e+04]\n",
      " [5.70e+01 3.30e+04]\n",
      " [5.60e+01 6.00e+04]\n",
      " [4.90e+01 3.90e+04]\n",
      " [3.90e+01 7.10e+04]\n",
      " [4.70e+01 3.40e+04]\n",
      " [4.80e+01 3.50e+04]\n",
      " [4.80e+01 3.30e+04]\n",
      " [4.70e+01 2.30e+04]\n",
      " [4.50e+01 4.50e+04]\n",
      " [6.00e+01 4.20e+04]\n",
      " [3.90e+01 5.90e+04]\n",
      " [4.60e+01 4.10e+04]\n",
      " [5.10e+01 2.30e+04]\n",
      " [5.00e+01 2.00e+04]\n",
      " [3.60e+01 3.30e+04]\n",
      " [4.90e+01 3.60e+04]]\n"
     ]
    }
   ],
   "source": [
    "print(X)"
   ]
  },
  {
   "cell_type": "code",
   "execution_count": 4,
   "metadata": {},
   "outputs": [
    {
     "name": "stdout",
     "output_type": "stream",
     "text": [
      "[0 0 0 0 0 0 0 1 0 0 0 0 0 0 0 0 1 1 1 1 1 1 1 1 1 1 1 1 0 0 0 1 0 0 0 0 0\n",
      " 0 0 0 0 0 0 0 0 0 0 0 1 0 0 0 0 0 0 0 0 0 0 0 0 0 0 1 0 0 0 0 0 0 0 0 0 0\n",
      " 0 1 0 0 0 0 0 0 0 0 0 1 0 0 0 0 0 0 0 0 0 0 0 1 0 0 0 0 0 1 0 0 0 0 0 0 0\n",
      " 0 0 0 0 0 0 0 0 0 0 0 0 0 0 0 0 0 0 0 0 0 0 0 0 0 0 1 0 0 0 0 0 0 0 0 1 0\n",
      " 0 0 0 0 0 0 0 0 0 0 0 1 1 0 0 0 0 0 0 0 1 0 0 0 0 0 0 0 0 0 0 0 0 0 1 0 0\n",
      " 0 0 0 0 0 0 0 0 0 0 0 0 0 0 0 0 0 1 0 1 0 1 0 1 0 1 1 0 0 0 1 0 0 0 1 0 1\n",
      " 1 1 0 0 1 1 0 1 1 0 1 1 0 1 0 0 0 1 1 0 1 1 0 1 0 1 0 1 0 0 1 1 0 1 0 0 1\n",
      " 1 0 1 1 0 1 1 0 0 1 0 0 1 1 1 1 1 0 1 1 1 1 0 1 1 0 1 0 1 0 1 1 1 1 0 0 0\n",
      " 1 1 0 1 1 1 1 1 0 0 0 1 1 0 0 1 0 1 0 1 1 0 1 0 1 1 0 1 1 0 0 0 1 1 0 1 0\n",
      " 0 1 0 1 0 0 1 1 0 0 1 1 0 1 1 0 0 1 0 1 0 1 1 1 0 1 0 1 1 1 0 1 1 1 1 0 1\n",
      " 1 1 0 1 0 1 0 0 1 1 0 1 1 1 1 1 1 0 1 1 1 1 1 1 0 1 1 1 0 1]\n"
     ]
    }
   ],
   "source": [
    "print(y)"
   ]
  },
  {
   "cell_type": "markdown",
   "metadata": {
    "colab_type": "text",
    "id": "WPt8zMSIxrJ7"
   },
   "source": [
    "## Feature Scaling"
   ]
  },
  {
   "cell_type": "code",
   "execution_count": 5,
   "metadata": {
    "colab": {},
    "colab_type": "code",
    "id": "c60y-wPDxvY-"
   },
   "outputs": [],
   "source": [
    "from sklearn.preprocessing import StandardScaler\n",
    "sc = StandardScaler()\n",
    "X = sc.fit_transform(X)"
   ]
  },
  {
   "cell_type": "markdown",
   "metadata": {
    "colab_type": "text",
    "id": "i3FBTRwzxzl7"
   },
   "source": [
    "## Splitting the dataset into the Training set and Test set"
   ]
  },
  {
   "cell_type": "code",
   "execution_count": 6,
   "metadata": {
    "colab": {},
    "colab_type": "code",
    "id": "V5TZ-0qSx5mX"
   },
   "outputs": [],
   "source": [
    "from sklearn.model_selection import train_test_split\n",
    "X_train, X_test, y_train, y_test = train_test_split(X, y, test_size = 0.25, random_state = 0)"
   ]
  },
  {
   "cell_type": "markdown",
   "metadata": {
    "colab_type": "text",
    "id": "29ry3GSGx9P_"
   },
   "source": [
    "## Training the Kernel SVM model on the Training set"
   ]
  },
  {
   "cell_type": "code",
   "execution_count": 7,
   "metadata": {
    "colab": {
     "base_uri": "https://localhost:8080/",
     "height": 84
    },
    "colab_type": "code",
    "executionInfo": {
     "elapsed": 2215,
     "status": "ok",
     "timestamp": 1586450350799,
     "user": {
      "displayName": "Hadelin de Ponteves",
      "photoUrl": "https://lh3.googleusercontent.com/a-/AOh14GhEuXdT7eQweUmRPW8_laJuPggSK6hfvpl5a6WBaA=s64",
      "userId": "15047218817161520419"
     },
     "user_tz": -240
    },
    "id": "BUM0MSyGyCjF",
    "outputId": "eb803185-3b1a-488c-d61e-24d1aa51a03e"
   },
   "outputs": [
    {
     "data": {
      "text/plain": [
       "SVC(C=1.0, break_ties=False, cache_size=200, class_weight=None, coef0=0.0,\n",
       "    decision_function_shape='ovr', degree=3, gamma='scale', kernel='rbf',\n",
       "    max_iter=-1, probability=False, random_state=0, shrinking=True, tol=0.001,\n",
       "    verbose=False)"
      ]
     },
     "execution_count": 7,
     "metadata": {},
     "output_type": "execute_result"
    }
   ],
   "source": [
    "from sklearn.svm import SVC\n",
    "classifier = SVC(kernel = 'rbf', random_state = 0)\n",
    "classifier.fit(X_train, y_train)"
   ]
  },
  {
   "cell_type": "markdown",
   "metadata": {
    "colab_type": "text",
    "id": "71mvqpMByE00"
   },
   "source": [
    "## Predicting the Test set results"
   ]
  },
  {
   "cell_type": "code",
   "execution_count": 8,
   "metadata": {
    "colab": {},
    "colab_type": "code",
    "id": "U51yVzFEyQxf"
   },
   "outputs": [],
   "source": [
    "y_pred = classifier.predict(X_test)"
   ]
  },
  {
   "cell_type": "markdown",
   "metadata": {
    "colab_type": "text",
    "id": "fBbur5RQyTcL"
   },
   "source": [
    "## Making the Confusion Matrix"
   ]
  },
  {
   "cell_type": "code",
   "execution_count": 9,
   "metadata": {
    "colab": {
     "base_uri": "https://localhost:8080/",
     "height": 50
    },
    "colab_type": "code",
    "executionInfo": {
     "elapsed": 2203,
     "status": "ok",
     "timestamp": 1586450350799,
     "user": {
      "displayName": "Hadelin de Ponteves",
      "photoUrl": "https://lh3.googleusercontent.com/a-/AOh14GhEuXdT7eQweUmRPW8_laJuPggSK6hfvpl5a6WBaA=s64",
      "userId": "15047218817161520419"
     },
     "user_tz": -240
    },
    "id": "_1llVHNPyWkZ",
    "outputId": "e7823b33-0d57-475d-bb24-a7f7be7332a0"
   },
   "outputs": [
    {
     "name": "stdout",
     "output_type": "stream",
     "text": [
      "[[64  4]\n",
      " [ 3 29]]\n",
      "0.93\n"
     ]
    }
   ],
   "source": [
    "from sklearn.metrics import confusion_matrix, accuracy_score\n",
    "cm = confusion_matrix(y_test, y_pred)\n",
    "print(cm)\n",
    "print(accuracy_score(y_test, y_pred))"
   ]
  },
  {
   "cell_type": "markdown",
   "metadata": {
    "colab_type": "text",
    "id": "U-eGh0nuyabx"
   },
   "source": [
    "## Applying k-Fold Cross Validation"
   ]
  },
  {
   "cell_type": "code",
   "execution_count": 10,
   "metadata": {
    "colab": {
     "base_uri": "https://localhost:8080/",
     "height": 50
    },
    "colab_type": "code",
    "executionInfo": {
     "elapsed": 2198,
     "status": "ok",
     "timestamp": 1586450350800,
     "user": {
      "displayName": "Hadelin de Ponteves",
      "photoUrl": "https://lh3.googleusercontent.com/a-/AOh14GhEuXdT7eQweUmRPW8_laJuPggSK6hfvpl5a6WBaA=s64",
      "userId": "15047218817161520419"
     },
     "user_tz": -240
    },
    "id": "N5puHSW9ydyi",
    "outputId": "148239a3-27aa-4a7a-f0df-b69fd5258718"
   },
   "outputs": [
    {
     "name": "stdout",
     "output_type": "stream",
     "text": [
      "Accuracies: 90.00 %\n",
      "Standard Deviation: 6.83 %\n"
     ]
    }
   ],
   "source": [
    "from sklearn.model_selection import cross_val_score\n",
    "accuracies = cross_val_score(estimator = classifier, X = X_train, y = y_train, cv = 10)\n",
    "\n",
    "print(\"Accuracies: {:.2f} %\".format(accuracies.mean()*100))\n",
    "print(\"Standard Deviation: {:.2f} %\".format(accuracies.std()*100)) # how much varience  diff. b/w the all  accuracies\n"
   ]
  },
  {
   "cell_type": "code",
   "execution_count": 11,
   "metadata": {},
   "outputs": [
    {
     "name": "stdout",
     "output_type": "stream",
     "text": [
      "(0, 0.8)\n",
      "(1, 0.9666666666666667)\n",
      "(2, 0.8)\n",
      "(3, 0.9666666666666667)\n",
      "(4, 0.8666666666666667)\n",
      "(5, 0.8333333333333334)\n",
      "(6, 0.9)\n",
      "(7, 0.9333333333333333)\n",
      "(8, 1.0)\n",
      "(9, 0.9333333333333333)\n"
     ]
    }
   ],
   "source": [
    "for i in enumerate(accuracies):\n",
    "    print(i) # 10 folds different accuracy"
   ]
  },
  {
   "cell_type": "code",
   "execution_count": null,
   "metadata": {},
   "outputs": [],
   "source": []
  }
 ],
 "metadata": {
  "colab": {
   "authorship_tag": "ABX9TyPMMhdER9dFVRwMeeVb0n3i",
   "name": "k-Fold Cross Validation",
   "provenance": [],
   "toc_visible": true
  },
  "kernelspec": {
   "display_name": "Python 3",
   "language": "python",
   "name": "python3"
  },
  "language_info": {
   "codemirror_mode": {
    "name": "ipython",
    "version": 3
   },
   "file_extension": ".py",
   "mimetype": "text/x-python",
   "name": "python",
   "nbconvert_exporter": "python",
   "pygments_lexer": "ipython3",
   "version": "3.7.7"
  }
 },
 "nbformat": 4,
 "nbformat_minor": 1
}
